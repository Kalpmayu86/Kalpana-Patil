{
 "cells": [
  {
   "cell_type": "markdown",
   "id": "48b7bc3a",
   "metadata": {},
   "source": [
    "# 1)Getting Started"
   ]
  },
  {
   "cell_type": "code",
   "execution_count": 1,
   "id": "fdcdadf0",
   "metadata": {},
   "outputs": [],
   "source": [
    "import numpy as np # linear algebra\n",
    "import pandas as pd # data processing, CSV file I/O (e.g. pd.read_csv)\n",
    "import string # special operations on strings\n",
    "import spacy # language models\n",
    "\n",
    "from matplotlib.pyplot import imread\n",
    "from matplotlib import pyplot as plt\n",
    "from wordcloud import WordCloud\n",
    "%matplotlib inline"
   ]
  },
  {
   "cell_type": "code",
   "execution_count": 2,
   "id": "c1477b01",
   "metadata": {},
   "outputs": [],
   "source": [
    "import spacy"
   ]
  },
  {
   "cell_type": "markdown",
   "id": "3d1760a6",
   "metadata": {},
   "source": [
    "# 2. Load the tweets"
   ]
  },
  {
   "cell_type": "code",
   "execution_count": 3,
   "id": "586c18e3",
   "metadata": {},
   "outputs": [
    {
     "name": "stderr",
     "output_type": "stream",
     "text": [
      "C:\\Users\\kalpana\\AppData\\Local\\Temp\\ipykernel_18140\\553532601.py:2: FutureWarning: The error_bad_lines argument has been deprecated and will be removed in a future version. Use on_bad_lines in the future.\n",
      "\n",
      "\n",
      "  df=pd.read_csv(\"C:\\\\Users\\\\kalpana\\\\Downloads\\\\Elon_musk (1).csv\",error_bad_lines=False,sep='|', encoding='cp1252')\n"
     ]
    }
   ],
   "source": [
    "import pandas as pd\n",
    "df=pd.read_csv(\"C:\\\\Users\\\\kalpana\\\\Downloads\\\\Elon_musk (1).csv\",error_bad_lines=False,sep='|', encoding='cp1252')"
   ]
  },
  {
   "cell_type": "code",
   "execution_count": 4,
   "id": "28df095b",
   "metadata": {},
   "outputs": [
    {
     "data": {
      "text/html": [
       "<div>\n",
       "<style scoped>\n",
       "    .dataframe tbody tr th:only-of-type {\n",
       "        vertical-align: middle;\n",
       "    }\n",
       "\n",
       "    .dataframe tbody tr th {\n",
       "        vertical-align: top;\n",
       "    }\n",
       "\n",
       "    .dataframe thead th {\n",
       "        text-align: right;\n",
       "    }\n",
       "</style>\n",
       "<table border=\"1\" class=\"dataframe\">\n",
       "  <thead>\n",
       "    <tr style=\"text-align: right;\">\n",
       "      <th></th>\n",
       "      <th>,Text</th>\n",
       "    </tr>\n",
       "  </thead>\n",
       "  <tbody>\n",
       "    <tr>\n",
       "      <th>0</th>\n",
       "      <td>1,@kunalb11 I’m an alien</td>\n",
       "    </tr>\n",
       "    <tr>\n",
       "      <th>1</th>\n",
       "      <td>2,@ID_AA_Carmack Ray tracing on Cyberpunk with...</td>\n",
       "    </tr>\n",
       "    <tr>\n",
       "      <th>2</th>\n",
       "      <td>3,@joerogan @Spotify Great interview!</td>\n",
       "    </tr>\n",
       "    <tr>\n",
       "      <th>3</th>\n",
       "      <td>4,@gtera27 Doge is underestimated</td>\n",
       "    </tr>\n",
       "    <tr>\n",
       "      <th>4</th>\n",
       "      <td>5,@teslacn Congratulations Tesla China for ama...</td>\n",
       "    </tr>\n",
       "    <tr>\n",
       "      <th>...</th>\n",
       "      <td>...</td>\n",
       "    </tr>\n",
       "    <tr>\n",
       "      <th>2076</th>\n",
       "      <td>1995,\"@flcnhvy True, it sounds so surreal, but...</td>\n",
       "    </tr>\n",
       "    <tr>\n",
       "      <th>2077</th>\n",
       "      <td>1996,@PPathole Make sure to read ur terms &amp;amp...</td>\n",
       "    </tr>\n",
       "    <tr>\n",
       "      <th>2078</th>\n",
       "      <td>1997,@TeslaGong @PPathole Samwise Gamgee</td>\n",
       "    </tr>\n",
       "    <tr>\n",
       "      <th>2079</th>\n",
       "      <td>1998,@PPathole Altho Dumb and Dumber is &lt;U+000...</td>\n",
       "    </tr>\n",
       "    <tr>\n",
       "      <th>2080</th>\n",
       "      <td>1999,Progress update August 28</td>\n",
       "    </tr>\n",
       "  </tbody>\n",
       "</table>\n",
       "<p>2081 rows × 1 columns</p>\n",
       "</div>"
      ],
      "text/plain": [
       "                                                  ,Text\n",
       "0                              1,@kunalb11 I’m an alien\n",
       "1     2,@ID_AA_Carmack Ray tracing on Cyberpunk with...\n",
       "2                 3,@joerogan @Spotify Great interview!\n",
       "3                     4,@gtera27 Doge is underestimated\n",
       "4     5,@teslacn Congratulations Tesla China for ama...\n",
       "...                                                 ...\n",
       "2076  1995,\"@flcnhvy True, it sounds so surreal, but...\n",
       "2077  1996,@PPathole Make sure to read ur terms &amp...\n",
       "2078           1997,@TeslaGong @PPathole Samwise Gamgee\n",
       "2079  1998,@PPathole Altho Dumb and Dumber is <U+000...\n",
       "2080                     1999,Progress update August 28\n",
       "\n",
       "[2081 rows x 1 columns]"
      ]
     },
     "execution_count": 4,
     "metadata": {},
     "output_type": "execute_result"
    }
   ],
   "source": [
    "df"
   ]
  },
  {
   "cell_type": "code",
   "execution_count": 5,
   "id": "1a37e4c8",
   "metadata": {},
   "outputs": [
    {
     "name": "stdout",
     "output_type": "stream",
     "text": [
      "Requirement already satisfied: snscrape in c:\\users\\kalpana\\anaconda3\\lib\\site-packages (0.4.3.20220106)\n",
      "Requirement already satisfied: requests[socks] in c:\\users\\kalpana\\anaconda3\\lib\\site-packages (from snscrape) (2.27.1)\n",
      "Requirement already satisfied: beautifulsoup4 in c:\\users\\kalpana\\anaconda3\\lib\\site-packages (from snscrape) (4.11.1)\n",
      "Requirement already satisfied: filelock in c:\\users\\kalpana\\anaconda3\\lib\\site-packages (from snscrape) (3.6.0)\n",
      "Requirement already satisfied: lxml in c:\\users\\kalpana\\anaconda3\\lib\\site-packages (from snscrape) (4.8.0)\n",
      "Requirement already satisfied: soupsieve>1.2 in c:\\users\\kalpana\\anaconda3\\lib\\site-packages (from beautifulsoup4->snscrape) (2.3.1)\n",
      "Requirement already satisfied: idna<4,>=2.5 in c:\\users\\kalpana\\anaconda3\\lib\\site-packages (from requests[socks]->snscrape) (3.3)\n",
      "Requirement already satisfied: certifi>=2017.4.17 in c:\\users\\kalpana\\anaconda3\\lib\\site-packages (from requests[socks]->snscrape) (2022.9.14)\n",
      "Requirement already satisfied: urllib3<1.27,>=1.21.1 in c:\\users\\kalpana\\anaconda3\\lib\\site-packages (from requests[socks]->snscrape) (1.26.9)\n",
      "Requirement already satisfied: charset-normalizer~=2.0.0 in c:\\users\\kalpana\\anaconda3\\lib\\site-packages (from requests[socks]->snscrape) (2.0.4)\n",
      "Requirement already satisfied: PySocks!=1.5.7,>=1.5.6 in c:\\users\\kalpana\\anaconda3\\lib\\site-packages (from requests[socks]->snscrape) (1.7.1)\n"
     ]
    },
    {
     "name": "stderr",
     "output_type": "stream",
     "text": [
      "WARNING: Ignoring invalid distribution -isions (c:\\users\\kalpana\\anaconda3\\lib\\site-packages)\n",
      "WARNING: Ignoring invalid distribution -isions (c:\\users\\kalpana\\anaconda3\\lib\\site-packages)\n",
      "WARNING: Ignoring invalid distribution -isions (c:\\users\\kalpana\\anaconda3\\lib\\site-packages)\n",
      "WARNING: Ignoring invalid distribution -isions (c:\\users\\kalpana\\anaconda3\\lib\\site-packages)\n",
      "WARNING: Ignoring invalid distribution -isions (c:\\users\\kalpana\\anaconda3\\lib\\site-packages)\n",
      "WARNING: Ignoring invalid distribution -isions (c:\\users\\kalpana\\anaconda3\\lib\\site-packages)\n"
     ]
    }
   ],
   "source": [
    "!pip3 install snscrape"
   ]
  },
  {
   "cell_type": "code",
   "execution_count": 6,
   "id": "5d21a1c1",
   "metadata": {},
   "outputs": [],
   "source": [
    "from datetime import date\n",
    "import snscrape.modules.twitter as sntwitter\n",
    "import pandas as pd\n",
    "import numpy as np\n",
    "from textblob import TextBlob\n",
    "from wordcloud import WordCloud\n",
    "import re\n",
    "import matplotlib.pyplot as plt\n",
    "import seaborn as sns\n",
    "plt.style.use('fivethirtyeight')\n",
    "import nltk\n",
    "from nltk.stem.snowball import SnowballStemmer\n",
    "from nltk.corpus import stopwords\n",
    "import spacy"
   ]
  },
  {
   "cell_type": "markdown",
   "id": "4944ce4d",
   "metadata": {},
   "source": [
    "# 3. Cleaning the tweets"
   ]
  },
  {
   "cell_type": "code",
   "execution_count": 7,
   "id": "cc27a5cb",
   "metadata": {},
   "outputs": [
    {
     "data": {
      "text/html": [
       "<div>\n",
       "<style scoped>\n",
       "    .dataframe tbody tr th:only-of-type {\n",
       "        vertical-align: middle;\n",
       "    }\n",
       "\n",
       "    .dataframe tbody tr th {\n",
       "        vertical-align: top;\n",
       "    }\n",
       "\n",
       "    .dataframe thead th {\n",
       "        text-align: right;\n",
       "    }\n",
       "</style>\n",
       "<table border=\"1\" class=\"dataframe\">\n",
       "  <thead>\n",
       "    <tr style=\"text-align: right;\">\n",
       "      <th></th>\n",
       "      <th>,Text</th>\n",
       "      <th>cleanTweet</th>\n",
       "    </tr>\n",
       "  </thead>\n",
       "  <tbody>\n",
       "    <tr>\n",
       "      <th>0</th>\n",
       "      <td>1,@kunalb11 I’m an alien</td>\n",
       "      <td>1, I’m an alien</td>\n",
       "    </tr>\n",
       "    <tr>\n",
       "      <th>1</th>\n",
       "      <td>2,@ID_AA_Carmack Ray tracing on Cyberpunk with...</td>\n",
       "      <td>2, Ray tracing on Cyberpunk with HDR is next-l...</td>\n",
       "    </tr>\n",
       "    <tr>\n",
       "      <th>2</th>\n",
       "      <td>3,@joerogan @Spotify Great interview!</td>\n",
       "      <td>3,  Great interview!</td>\n",
       "    </tr>\n",
       "    <tr>\n",
       "      <th>3</th>\n",
       "      <td>4,@gtera27 Doge is underestimated</td>\n",
       "      <td>4, Doge is underestimated</td>\n",
       "    </tr>\n",
       "    <tr>\n",
       "      <th>4</th>\n",
       "      <td>5,@teslacn Congratulations Tesla China for ama...</td>\n",
       "      <td>5, Congratulations Tesla China for amazing exe...</td>\n",
       "    </tr>\n",
       "  </tbody>\n",
       "</table>\n",
       "</div>"
      ],
      "text/plain": [
       "                                               ,Text  \\\n",
       "0                           1,@kunalb11 I’m an alien   \n",
       "1  2,@ID_AA_Carmack Ray tracing on Cyberpunk with...   \n",
       "2              3,@joerogan @Spotify Great interview!   \n",
       "3                  4,@gtera27 Doge is underestimated   \n",
       "4  5,@teslacn Congratulations Tesla China for ama...   \n",
       "\n",
       "                                          cleanTweet  \n",
       "0                                    1, I’m an alien  \n",
       "1  2, Ray tracing on Cyberpunk with HDR is next-l...  \n",
       "2                               3,  Great interview!  \n",
       "3                          4, Doge is underestimated  \n",
       "4  5, Congratulations Tesla China for amazing exe...  "
      ]
     },
     "execution_count": 7,
     "metadata": {},
     "output_type": "execute_result"
    }
   ],
   "source": [
    "#clean the tweets with a function\n",
    "def cleanTweets(text):\n",
    "    text = re.sub('@[A-Za-z0-9_]+', '', text) #removes @mentions\n",
    "    text = re.sub('#','',text) #removes hastag '#' symbol\n",
    "    text = re.sub('RT[\\s]+','',text)\n",
    "    text = re.sub('https?:\\/\\/\\S+', '', text) \n",
    "    text = re.sub('\\n',' ',text)\n",
    "    return text\n",
    "df['cleanTweet'] = df[',Text'].apply(cleanTweets) #apply cleanTweet function to the tweet\n",
    "df.head() #compares original tweets with cleaned Tweets"
   ]
  },
  {
   "cell_type": "markdown",
   "id": "4cae9d18",
   "metadata": {},
   "source": [
    "# 4. Detect sentiments"
   ]
  },
  {
   "cell_type": "code",
   "execution_count": 8,
   "id": "696bf364",
   "metadata": {},
   "outputs": [],
   "source": [
    "for row in df.itertuples():\n",
    "    text = df.iloc[:, 1].tolist()\n",
    "    tweets = \" \".join(str(x) for x in text)\n",
    "    text = TextBlob(tweets)\n",
    "    score = text.sentiment"
   ]
  },
  {
   "cell_type": "code",
   "execution_count": 9,
   "id": "e6c38d19",
   "metadata": {},
   "outputs": [],
   "source": [
    "df[['polarity', 'subjectivity']] = df['cleanTweet'].apply(lambda Text: pd.Series(TextBlob(Text).sentiment))"
   ]
  },
  {
   "cell_type": "code",
   "execution_count": 10,
   "id": "46d30b04",
   "metadata": {},
   "outputs": [
    {
     "data": {
      "text/html": [
       "<div>\n",
       "<style scoped>\n",
       "    .dataframe tbody tr th:only-of-type {\n",
       "        vertical-align: middle;\n",
       "    }\n",
       "\n",
       "    .dataframe tbody tr th {\n",
       "        vertical-align: top;\n",
       "    }\n",
       "\n",
       "    .dataframe thead th {\n",
       "        text-align: right;\n",
       "    }\n",
       "</style>\n",
       "<table border=\"1\" class=\"dataframe\">\n",
       "  <thead>\n",
       "    <tr style=\"text-align: right;\">\n",
       "      <th></th>\n",
       "      <th>,Text</th>\n",
       "      <th>cleanTweet</th>\n",
       "      <th>polarity</th>\n",
       "      <th>subjectivity</th>\n",
       "    </tr>\n",
       "  </thead>\n",
       "  <tbody>\n",
       "    <tr>\n",
       "      <th>0</th>\n",
       "      <td>1,@kunalb11 I’m an alien</td>\n",
       "      <td>1, I’m an alien</td>\n",
       "      <td>-0.250000</td>\n",
       "      <td>0.750000</td>\n",
       "    </tr>\n",
       "    <tr>\n",
       "      <th>1</th>\n",
       "      <td>2,@ID_AA_Carmack Ray tracing on Cyberpunk with...</td>\n",
       "      <td>2, Ray tracing on Cyberpunk with HDR is next-l...</td>\n",
       "      <td>0.000000</td>\n",
       "      <td>0.000000</td>\n",
       "    </tr>\n",
       "    <tr>\n",
       "      <th>2</th>\n",
       "      <td>3,@joerogan @Spotify Great interview!</td>\n",
       "      <td>3,  Great interview!</td>\n",
       "      <td>1.000000</td>\n",
       "      <td>0.750000</td>\n",
       "    </tr>\n",
       "    <tr>\n",
       "      <th>3</th>\n",
       "      <td>4,@gtera27 Doge is underestimated</td>\n",
       "      <td>4, Doge is underestimated</td>\n",
       "      <td>0.000000</td>\n",
       "      <td>0.000000</td>\n",
       "    </tr>\n",
       "    <tr>\n",
       "      <th>4</th>\n",
       "      <td>5,@teslacn Congratulations Tesla China for ama...</td>\n",
       "      <td>5, Congratulations Tesla China for amazing exe...</td>\n",
       "      <td>0.345313</td>\n",
       "      <td>0.366667</td>\n",
       "    </tr>\n",
       "    <tr>\n",
       "      <th>5</th>\n",
       "      <td>6,Happy New Year of the Ox! https://t.co/9WFKM...</td>\n",
       "      <td>6,Happy New Year of the Ox!</td>\n",
       "      <td>0.170455</td>\n",
       "      <td>0.454545</td>\n",
       "    </tr>\n",
       "    <tr>\n",
       "      <th>6</th>\n",
       "      <td>7,\"Frodo was the underdoge,</td>\n",
       "      <td>7,\"Frodo was the underdoge,</td>\n",
       "      <td>0.000000</td>\n",
       "      <td>0.000000</td>\n",
       "    </tr>\n",
       "    <tr>\n",
       "      <th>7</th>\n",
       "      <td>All thought he would fail,</td>\n",
       "      <td>All thought he would fail,</td>\n",
       "      <td>-0.500000</td>\n",
       "      <td>0.300000</td>\n",
       "    </tr>\n",
       "    <tr>\n",
       "      <th>8</th>\n",
       "      <td>Himself most of all. https://t.co/zGxJFDzzrM\"</td>\n",
       "      <td>Himself most of all.</td>\n",
       "      <td>0.500000</td>\n",
       "      <td>0.500000</td>\n",
       "    </tr>\n",
       "    <tr>\n",
       "      <th>9</th>\n",
       "      <td>8,@OwenSparks_ @flcnhvy @anonyx10 Haha thanks :)</td>\n",
       "      <td>8,   Haha thanks :)</td>\n",
       "      <td>0.300000</td>\n",
       "      <td>0.500000</td>\n",
       "    </tr>\n",
       "  </tbody>\n",
       "</table>\n",
       "</div>"
      ],
      "text/plain": [
       "                                               ,Text  \\\n",
       "0                           1,@kunalb11 I’m an alien   \n",
       "1  2,@ID_AA_Carmack Ray tracing on Cyberpunk with...   \n",
       "2              3,@joerogan @Spotify Great interview!   \n",
       "3                  4,@gtera27 Doge is underestimated   \n",
       "4  5,@teslacn Congratulations Tesla China for ama...   \n",
       "5  6,Happy New Year of the Ox! https://t.co/9WFKM...   \n",
       "6                        7,\"Frodo was the underdoge,   \n",
       "7                         All thought he would fail,   \n",
       "8      Himself most of all. https://t.co/zGxJFDzzrM\"   \n",
       "9   8,@OwenSparks_ @flcnhvy @anonyx10 Haha thanks :)   \n",
       "\n",
       "                                          cleanTweet  polarity  subjectivity  \n",
       "0                                    1, I’m an alien -0.250000      0.750000  \n",
       "1  2, Ray tracing on Cyberpunk with HDR is next-l...  0.000000      0.000000  \n",
       "2                               3,  Great interview!  1.000000      0.750000  \n",
       "3                          4, Doge is underestimated  0.000000      0.000000  \n",
       "4  5, Congratulations Tesla China for amazing exe...  0.345313      0.366667  \n",
       "5                       6,Happy New Year of the Ox!   0.170455      0.454545  \n",
       "6                        7,\"Frodo was the underdoge,  0.000000      0.000000  \n",
       "7                         All thought he would fail, -0.500000      0.300000  \n",
       "8                              Himself most of all.   0.500000      0.500000  \n",
       "9                                8,   Haha thanks :)  0.300000      0.500000  "
      ]
     },
     "execution_count": 10,
     "metadata": {},
     "output_type": "execute_result"
    }
   ],
   "source": [
    "df.head(10)"
   ]
  },
  {
   "cell_type": "code",
   "execution_count": 11,
   "id": "f97abb74",
   "metadata": {},
   "outputs": [],
   "source": [
    "df['sentiment'] = df['polarity'].apply(lambda x: 'positive' if x > 0 else('negative' if x<0  else 'neutral'))"
   ]
  },
  {
   "cell_type": "code",
   "execution_count": 12,
   "id": "4672dc3f",
   "metadata": {},
   "outputs": [
    {
     "data": {
      "text/html": [
       "<div>\n",
       "<style scoped>\n",
       "    .dataframe tbody tr th:only-of-type {\n",
       "        vertical-align: middle;\n",
       "    }\n",
       "\n",
       "    .dataframe tbody tr th {\n",
       "        vertical-align: top;\n",
       "    }\n",
       "\n",
       "    .dataframe thead th {\n",
       "        text-align: right;\n",
       "    }\n",
       "</style>\n",
       "<table border=\"1\" class=\"dataframe\">\n",
       "  <thead>\n",
       "    <tr style=\"text-align: right;\">\n",
       "      <th></th>\n",
       "      <th>,Text</th>\n",
       "      <th>cleanTweet</th>\n",
       "      <th>polarity</th>\n",
       "      <th>subjectivity</th>\n",
       "      <th>sentiment</th>\n",
       "    </tr>\n",
       "  </thead>\n",
       "  <tbody>\n",
       "    <tr>\n",
       "      <th>0</th>\n",
       "      <td>1,@kunalb11 I’m an alien</td>\n",
       "      <td>1, I’m an alien</td>\n",
       "      <td>-0.250000</td>\n",
       "      <td>0.750000</td>\n",
       "      <td>negative</td>\n",
       "    </tr>\n",
       "    <tr>\n",
       "      <th>1</th>\n",
       "      <td>2,@ID_AA_Carmack Ray tracing on Cyberpunk with...</td>\n",
       "      <td>2, Ray tracing on Cyberpunk with HDR is next-l...</td>\n",
       "      <td>0.000000</td>\n",
       "      <td>0.000000</td>\n",
       "      <td>neutral</td>\n",
       "    </tr>\n",
       "    <tr>\n",
       "      <th>2</th>\n",
       "      <td>3,@joerogan @Spotify Great interview!</td>\n",
       "      <td>3,  Great interview!</td>\n",
       "      <td>1.000000</td>\n",
       "      <td>0.750000</td>\n",
       "      <td>positive</td>\n",
       "    </tr>\n",
       "    <tr>\n",
       "      <th>3</th>\n",
       "      <td>4,@gtera27 Doge is underestimated</td>\n",
       "      <td>4, Doge is underestimated</td>\n",
       "      <td>0.000000</td>\n",
       "      <td>0.000000</td>\n",
       "      <td>neutral</td>\n",
       "    </tr>\n",
       "    <tr>\n",
       "      <th>4</th>\n",
       "      <td>5,@teslacn Congratulations Tesla China for ama...</td>\n",
       "      <td>5, Congratulations Tesla China for amazing exe...</td>\n",
       "      <td>0.345313</td>\n",
       "      <td>0.366667</td>\n",
       "      <td>positive</td>\n",
       "    </tr>\n",
       "    <tr>\n",
       "      <th>5</th>\n",
       "      <td>6,Happy New Year of the Ox! https://t.co/9WFKM...</td>\n",
       "      <td>6,Happy New Year of the Ox!</td>\n",
       "      <td>0.170455</td>\n",
       "      <td>0.454545</td>\n",
       "      <td>positive</td>\n",
       "    </tr>\n",
       "    <tr>\n",
       "      <th>6</th>\n",
       "      <td>7,\"Frodo was the underdoge,</td>\n",
       "      <td>7,\"Frodo was the underdoge,</td>\n",
       "      <td>0.000000</td>\n",
       "      <td>0.000000</td>\n",
       "      <td>neutral</td>\n",
       "    </tr>\n",
       "    <tr>\n",
       "      <th>7</th>\n",
       "      <td>All thought he would fail,</td>\n",
       "      <td>All thought he would fail,</td>\n",
       "      <td>-0.500000</td>\n",
       "      <td>0.300000</td>\n",
       "      <td>negative</td>\n",
       "    </tr>\n",
       "    <tr>\n",
       "      <th>8</th>\n",
       "      <td>Himself most of all. https://t.co/zGxJFDzzrM\"</td>\n",
       "      <td>Himself most of all.</td>\n",
       "      <td>0.500000</td>\n",
       "      <td>0.500000</td>\n",
       "      <td>positive</td>\n",
       "    </tr>\n",
       "    <tr>\n",
       "      <th>9</th>\n",
       "      <td>8,@OwenSparks_ @flcnhvy @anonyx10 Haha thanks :)</td>\n",
       "      <td>8,   Haha thanks :)</td>\n",
       "      <td>0.300000</td>\n",
       "      <td>0.500000</td>\n",
       "      <td>positive</td>\n",
       "    </tr>\n",
       "  </tbody>\n",
       "</table>\n",
       "</div>"
      ],
      "text/plain": [
       "                                               ,Text  \\\n",
       "0                           1,@kunalb11 I’m an alien   \n",
       "1  2,@ID_AA_Carmack Ray tracing on Cyberpunk with...   \n",
       "2              3,@joerogan @Spotify Great interview!   \n",
       "3                  4,@gtera27 Doge is underestimated   \n",
       "4  5,@teslacn Congratulations Tesla China for ama...   \n",
       "5  6,Happy New Year of the Ox! https://t.co/9WFKM...   \n",
       "6                        7,\"Frodo was the underdoge,   \n",
       "7                         All thought he would fail,   \n",
       "8      Himself most of all. https://t.co/zGxJFDzzrM\"   \n",
       "9   8,@OwenSparks_ @flcnhvy @anonyx10 Haha thanks :)   \n",
       "\n",
       "                                          cleanTweet  polarity  subjectivity  \\\n",
       "0                                    1, I’m an alien -0.250000      0.750000   \n",
       "1  2, Ray tracing on Cyberpunk with HDR is next-l...  0.000000      0.000000   \n",
       "2                               3,  Great interview!  1.000000      0.750000   \n",
       "3                          4, Doge is underestimated  0.000000      0.000000   \n",
       "4  5, Congratulations Tesla China for amazing exe...  0.345313      0.366667   \n",
       "5                       6,Happy New Year of the Ox!   0.170455      0.454545   \n",
       "6                        7,\"Frodo was the underdoge,  0.000000      0.000000   \n",
       "7                         All thought he would fail, -0.500000      0.300000   \n",
       "8                              Himself most of all.   0.500000      0.500000   \n",
       "9                                8,   Haha thanks :)  0.300000      0.500000   \n",
       "\n",
       "  sentiment  \n",
       "0  negative  \n",
       "1   neutral  \n",
       "2  positive  \n",
       "3   neutral  \n",
       "4  positive  \n",
       "5  positive  \n",
       "6   neutral  \n",
       "7  negative  \n",
       "8  positive  \n",
       "9  positive  "
      ]
     },
     "execution_count": 12,
     "metadata": {},
     "output_type": "execute_result"
    }
   ],
   "source": [
    "df.head(10)"
   ]
  },
  {
   "cell_type": "code",
   "execution_count": 15,
   "id": "f8d1e0bd",
   "metadata": {},
   "outputs": [
    {
     "data": {
      "text/plain": [
       "(-1.1246941209538313,\n",
       " 1.101175910521611,\n",
       " -1.1263486466282222,\n",
       " 1.1200283532965816)"
      ]
     },
     "execution_count": 15,
     "metadata": {},
     "output_type": "execute_result"
    },
    {
     "data": {
      "image/png": "[encoded data removed]",
      "text/plain": [
       "<Figure size 648x648 with 1 Axes>"
      ]
     },
     "metadata": {},
     "output_type": "display_data"
    }
   ],
   "source": [
    "#Basic pie chart to view distribution of apps across various categories\n",
    "fig, ax = plt.subplots(figsize=(9, 9), subplot_kw=dict(aspect=\"equal\"))\n",
    "number_of_apps = df[\"sentiment\"].value_counts()\n",
    "labels = number_of_apps.index\n",
    "sizes = number_of_apps.values\n",
    "ax.pie(sizes,labeldistance=2,autopct='%1.1f%%')\n",
    "ax.legend(labels=labels,loc=\"right\",bbox_to_anchor=(0.9, 0, 0.5, 1))\n",
    "ax.axis(\"equal\")"
   ]
  },
  {
   "cell_type": "code",
   "execution_count": null,
   "id": "60d1fe4e",
   "metadata": {},
   "outputs": [],
   "source": []
  }
 ],
 "metadata": {
  "kernelspec": {
   "display_name": "Python 3 (ipykernel)",
   "language": "python",
   "name": "python3"
  },
  "language_info": {
   "codemirror_mode": {
    "name": "ipython",
    "version": 3
   },
   "file_extension": ".py",
   "mimetype": "text/x-python",
   "name": "python",
   "nbconvert_exporter": "python",
   "pygments_lexer": "ipython3",
   "version": "3.9.12"
  }
 },
 "nbformat": 4,
 "nbformat_minor": 5
}
