{
 "cells": [
  {
   "cell_type": "raw",
   "id": "8aa76653",
   "metadata": {},
   "source": [
    "The dataset contains 36733 instances of 11 sensor measures aggregated over one hour (by means of average or sum) from a gas turbine. \n",
    "The Dataset includes gas turbine parameters (such as Turbine Inlet Temperature and Compressor Discharge pressure) in addition to the ambient variables.\n",
    "\n",
    "\n",
    "\n",
    "Problem statement: predicting turbine energy yield (TEY) using ambient variables as features.\n",
    "\n",
    "\n",
    "\n",
    "Attribute Information:\n",
    "\n",
    "The explanations of sensor measurements and their brief statistics are given below.\n",
    "\n",
    "Variable (Abbr.) Unit Min Max Mean\n",
    "Ambient temperature (AT) C â€“6.23 37.10 17.71\n",
    "Ambient pressure (AP) mbar 985.85 1036.56 1013.07\n",
    "Ambient humidity (AH) (%) 24.08 100.20 77.87\n",
    "Air filter difference pressure (AFDP) mbar 2.09 7.61 3.93\n",
    "Gas turbine exhaust pressure (GTEP) mbar 17.70 40.72 25.56\n",
    "Turbine inlet temperature (TIT) C 1000.85 1100.89 1081.43\n",
    "Turbine after temperature (TAT) C 511.04 550.61 546.16\n",
    "Compressor discharge pressure (CDP) mbar 9.85 15.16 12.06\n",
    "Turbine energy yield (TEY) MWH 100.02 179.50 133.51\n",
    "Carbon monoxide (CO) mg/m3 0.00 44.10 2.37\n",
    "Nitrogen oxides (NOx) mg/m3 25.90 119.91 65.29"
   ]
  },
  {
   "cell_type": "code",
   "execution_count": 1,
   "id": "9c0e8c30",
   "metadata": {},
   "outputs": [],
   "source": [
    "# import library\n",
    "import numpy as np\n",
    "import pandas as pd\n",
    "import matplotlib.pyplot as plt\n",
    "import seaborn as sns\n",
    "from scipy.stats import zscore\n",
    "import xgboost as xgb\n",
    "from sklearn.metrics import mean_squared_error\n",
    "from sklearn.preprocessing import LabelEncoder \n",
    "from sklearn.model_selection import train_test_split"
   ]
  },
  {
   "cell_type": "code",
   "execution_count": 2,
   "id": "86f69ec3",
   "metadata": {},
   "outputs": [],
   "source": [
    "from keras.models import Sequential\n",
    "from keras.layers import Dense\n",
    "import numpy as np"
   ]
  },
  {
   "cell_type": "code",
   "execution_count": 3,
   "id": "5c3421b5",
   "metadata": {},
   "outputs": [],
   "source": [
    "df=pd.read_csv(\"C:\\\\Users\\\\kalpana\\\\Downloads\\\\gas_turbines.csv\")"
   ]
  },
  {
   "cell_type": "code",
   "execution_count": 4,
   "id": "6349f653",
   "metadata": {},
   "outputs": [
    {
     "data": {
      "text/html": [
       "<div>\n",
       "<style scoped>\n",
       "    .dataframe tbody tr th:only-of-type {\n",
       "        vertical-align: middle;\n",
       "    }\n",
       "\n",
       "    .dataframe tbody tr th {\n",
       "        vertical-align: top;\n",
       "    }\n",
       "\n",
       "    .dataframe thead th {\n",
       "        text-align: right;\n",
       "    }\n",
       "</style>\n",
       "<table border=\"1\" class=\"dataframe\">\n",
       "  <thead>\n",
       "    <tr style=\"text-align: right;\">\n",
       "      <th></th>\n",
       "      <th>AT</th>\n",
       "      <th>AP</th>\n",
       "      <th>AH</th>\n",
       "      <th>AFDP</th>\n",
       "      <th>GTEP</th>\n",
       "      <th>TIT</th>\n",
       "      <th>TAT</th>\n",
       "      <th>TEY</th>\n",
       "      <th>CDP</th>\n",
       "      <th>CO</th>\n",
       "      <th>NOX</th>\n",
       "    </tr>\n",
       "  </thead>\n",
       "  <tbody>\n",
       "    <tr>\n",
       "      <th>0</th>\n",
       "      <td>6.8594</td>\n",
       "      <td>1007.9</td>\n",
       "      <td>96.799</td>\n",
       "      <td>3.5000</td>\n",
       "      <td>19.663</td>\n",
       "      <td>1059.2</td>\n",
       "      <td>550.00</td>\n",
       "      <td>114.70</td>\n",
       "      <td>10.605</td>\n",
       "      <td>3.1547</td>\n",
       "      <td>82.722</td>\n",
       "    </tr>\n",
       "    <tr>\n",
       "      <th>1</th>\n",
       "      <td>6.7850</td>\n",
       "      <td>1008.4</td>\n",
       "      <td>97.118</td>\n",
       "      <td>3.4998</td>\n",
       "      <td>19.728</td>\n",
       "      <td>1059.3</td>\n",
       "      <td>550.00</td>\n",
       "      <td>114.72</td>\n",
       "      <td>10.598</td>\n",
       "      <td>3.2363</td>\n",
       "      <td>82.776</td>\n",
       "    </tr>\n",
       "    <tr>\n",
       "      <th>2</th>\n",
       "      <td>6.8977</td>\n",
       "      <td>1008.8</td>\n",
       "      <td>95.939</td>\n",
       "      <td>3.4824</td>\n",
       "      <td>19.779</td>\n",
       "      <td>1059.4</td>\n",
       "      <td>549.87</td>\n",
       "      <td>114.71</td>\n",
       "      <td>10.601</td>\n",
       "      <td>3.2012</td>\n",
       "      <td>82.468</td>\n",
       "    </tr>\n",
       "    <tr>\n",
       "      <th>3</th>\n",
       "      <td>7.0569</td>\n",
       "      <td>1009.2</td>\n",
       "      <td>95.249</td>\n",
       "      <td>3.4805</td>\n",
       "      <td>19.792</td>\n",
       "      <td>1059.6</td>\n",
       "      <td>549.99</td>\n",
       "      <td>114.72</td>\n",
       "      <td>10.606</td>\n",
       "      <td>3.1923</td>\n",
       "      <td>82.670</td>\n",
       "    </tr>\n",
       "    <tr>\n",
       "      <th>4</th>\n",
       "      <td>7.3978</td>\n",
       "      <td>1009.7</td>\n",
       "      <td>95.150</td>\n",
       "      <td>3.4976</td>\n",
       "      <td>19.765</td>\n",
       "      <td>1059.7</td>\n",
       "      <td>549.98</td>\n",
       "      <td>114.72</td>\n",
       "      <td>10.612</td>\n",
       "      <td>3.2484</td>\n",
       "      <td>82.311</td>\n",
       "    </tr>\n",
       "  </tbody>\n",
       "</table>\n",
       "</div>"
      ],
      "text/plain": [
       "       AT      AP      AH    AFDP    GTEP     TIT     TAT     TEY     CDP  \\\n",
       "0  6.8594  1007.9  96.799  3.5000  19.663  1059.2  550.00  114.70  10.605   \n",
       "1  6.7850  1008.4  97.118  3.4998  19.728  1059.3  550.00  114.72  10.598   \n",
       "2  6.8977  1008.8  95.939  3.4824  19.779  1059.4  549.87  114.71  10.601   \n",
       "3  7.0569  1009.2  95.249  3.4805  19.792  1059.6  549.99  114.72  10.606   \n",
       "4  7.3978  1009.7  95.150  3.4976  19.765  1059.7  549.98  114.72  10.612   \n",
       "\n",
       "       CO     NOX  \n",
       "0  3.1547  82.722  \n",
       "1  3.2363  82.776  \n",
       "2  3.2012  82.468  \n",
       "3  3.1923  82.670  \n",
       "4  3.2484  82.311  "
      ]
     },
     "execution_count": 4,
     "metadata": {},
     "output_type": "execute_result"
    }
   ],
   "source": [
    "df.head()"
   ]
  },
  {
   "cell_type": "markdown",
   "id": "e55cea73",
   "metadata": {},
   "source": [
    "# EDA"
   ]
  },
  {
   "cell_type": "code",
   "execution_count": 5,
   "id": "8ee34823",
   "metadata": {},
   "outputs": [
    {
     "name": "stdout",
     "output_type": "stream",
     "text": [
      "<class 'pandas.core.frame.DataFrame'>\n",
      "RangeIndex: 15039 entries, 0 to 15038\n",
      "Data columns (total 11 columns):\n",
      " #   Column  Non-Null Count  Dtype  \n",
      "---  ------  --------------  -----  \n",
      " 0   AT      15039 non-null  float64\n",
      " 1   AP      15039 non-null  float64\n",
      " 2   AH      15039 non-null  float64\n",
      " 3   AFDP    15039 non-null  float64\n",
      " 4   GTEP    15039 non-null  float64\n",
      " 5   TIT     15039 non-null  float64\n",
      " 6   TAT     15039 non-null  float64\n",
      " 7   TEY     15039 non-null  float64\n",
      " 8   CDP     15039 non-null  float64\n",
      " 9   CO      15039 non-null  float64\n",
      " 10  NOX     15039 non-null  float64\n",
      "dtypes: float64(11)\n",
      "memory usage: 1.3 MB\n"
     ]
    }
   ],
   "source": [
    "df.info()"
   ]
  },
  {
   "cell_type": "code",
   "execution_count": 6,
   "id": "078c8546",
   "metadata": {},
   "outputs": [
    {
     "data": {
      "text/html": [
       "<div>\n",
       "<style scoped>\n",
       "    .dataframe tbody tr th:only-of-type {\n",
       "        vertical-align: middle;\n",
       "    }\n",
       "\n",
       "    .dataframe tbody tr th {\n",
       "        vertical-align: top;\n",
       "    }\n",
       "\n",
       "    .dataframe thead th {\n",
       "        text-align: right;\n",
       "    }\n",
       "</style>\n",
       "<table border=\"1\" class=\"dataframe\">\n",
       "  <thead>\n",
       "    <tr style=\"text-align: right;\">\n",
       "      <th></th>\n",
       "      <th>AT</th>\n",
       "      <th>AP</th>\n",
       "      <th>AH</th>\n",
       "      <th>AFDP</th>\n",
       "      <th>GTEP</th>\n",
       "      <th>TIT</th>\n",
       "      <th>TAT</th>\n",
       "      <th>TEY</th>\n",
       "      <th>CDP</th>\n",
       "      <th>CO</th>\n",
       "      <th>NOX</th>\n",
       "    </tr>\n",
       "  </thead>\n",
       "  <tbody>\n",
       "    <tr>\n",
       "      <th>AT</th>\n",
       "      <td>1.000000</td>\n",
       "      <td>-0.412953</td>\n",
       "      <td>-0.549432</td>\n",
       "      <td>-0.099333</td>\n",
       "      <td>-0.049103</td>\n",
       "      <td>0.093067</td>\n",
       "      <td>0.338569</td>\n",
       "      <td>-0.207495</td>\n",
       "      <td>-0.100705</td>\n",
       "      <td>-0.088588</td>\n",
       "      <td>-0.600006</td>\n",
       "    </tr>\n",
       "    <tr>\n",
       "      <th>AP</th>\n",
       "      <td>-0.412953</td>\n",
       "      <td>1.000000</td>\n",
       "      <td>0.042573</td>\n",
       "      <td>0.040318</td>\n",
       "      <td>0.078575</td>\n",
       "      <td>0.029650</td>\n",
       "      <td>-0.223479</td>\n",
       "      <td>0.146939</td>\n",
       "      <td>0.131198</td>\n",
       "      <td>0.041614</td>\n",
       "      <td>0.256744</td>\n",
       "    </tr>\n",
       "    <tr>\n",
       "      <th>AH</th>\n",
       "      <td>-0.549432</td>\n",
       "      <td>0.042573</td>\n",
       "      <td>1.000000</td>\n",
       "      <td>-0.119249</td>\n",
       "      <td>-0.202784</td>\n",
       "      <td>-0.247781</td>\n",
       "      <td>0.010859</td>\n",
       "      <td>-0.110272</td>\n",
       "      <td>-0.182010</td>\n",
       "      <td>0.165505</td>\n",
       "      <td>0.143061</td>\n",
       "    </tr>\n",
       "    <tr>\n",
       "      <th>AFDP</th>\n",
       "      <td>-0.099333</td>\n",
       "      <td>0.040318</td>\n",
       "      <td>-0.119249</td>\n",
       "      <td>1.000000</td>\n",
       "      <td>0.744251</td>\n",
       "      <td>0.627254</td>\n",
       "      <td>-0.571541</td>\n",
       "      <td>0.717995</td>\n",
       "      <td>0.727152</td>\n",
       "      <td>-0.334207</td>\n",
       "      <td>-0.037299</td>\n",
       "    </tr>\n",
       "    <tr>\n",
       "      <th>GTEP</th>\n",
       "      <td>-0.049103</td>\n",
       "      <td>0.078575</td>\n",
       "      <td>-0.202784</td>\n",
       "      <td>0.744251</td>\n",
       "      <td>1.000000</td>\n",
       "      <td>0.874526</td>\n",
       "      <td>-0.756884</td>\n",
       "      <td>0.977042</td>\n",
       "      <td>0.993784</td>\n",
       "      <td>-0.508259</td>\n",
       "      <td>-0.208496</td>\n",
       "    </tr>\n",
       "    <tr>\n",
       "      <th>TIT</th>\n",
       "      <td>0.093067</td>\n",
       "      <td>0.029650</td>\n",
       "      <td>-0.247781</td>\n",
       "      <td>0.627254</td>\n",
       "      <td>0.874526</td>\n",
       "      <td>1.000000</td>\n",
       "      <td>-0.357320</td>\n",
       "      <td>0.891587</td>\n",
       "      <td>0.887238</td>\n",
       "      <td>-0.688272</td>\n",
       "      <td>-0.231636</td>\n",
       "    </tr>\n",
       "    <tr>\n",
       "      <th>TAT</th>\n",
       "      <td>0.338569</td>\n",
       "      <td>-0.223479</td>\n",
       "      <td>0.010859</td>\n",
       "      <td>-0.571541</td>\n",
       "      <td>-0.756884</td>\n",
       "      <td>-0.357320</td>\n",
       "      <td>1.000000</td>\n",
       "      <td>-0.720356</td>\n",
       "      <td>-0.744740</td>\n",
       "      <td>0.063404</td>\n",
       "      <td>0.009888</td>\n",
       "    </tr>\n",
       "    <tr>\n",
       "      <th>TEY</th>\n",
       "      <td>-0.207495</td>\n",
       "      <td>0.146939</td>\n",
       "      <td>-0.110272</td>\n",
       "      <td>0.717995</td>\n",
       "      <td>0.977042</td>\n",
       "      <td>0.891587</td>\n",
       "      <td>-0.720356</td>\n",
       "      <td>1.000000</td>\n",
       "      <td>0.988473</td>\n",
       "      <td>-0.541751</td>\n",
       "      <td>-0.102631</td>\n",
       "    </tr>\n",
       "    <tr>\n",
       "      <th>CDP</th>\n",
       "      <td>-0.100705</td>\n",
       "      <td>0.131198</td>\n",
       "      <td>-0.182010</td>\n",
       "      <td>0.727152</td>\n",
       "      <td>0.993784</td>\n",
       "      <td>0.887238</td>\n",
       "      <td>-0.744740</td>\n",
       "      <td>0.988473</td>\n",
       "      <td>1.000000</td>\n",
       "      <td>-0.520783</td>\n",
       "      <td>-0.169103</td>\n",
       "    </tr>\n",
       "    <tr>\n",
       "      <th>CO</th>\n",
       "      <td>-0.088588</td>\n",
       "      <td>0.041614</td>\n",
       "      <td>0.165505</td>\n",
       "      <td>-0.334207</td>\n",
       "      <td>-0.508259</td>\n",
       "      <td>-0.688272</td>\n",
       "      <td>0.063404</td>\n",
       "      <td>-0.541751</td>\n",
       "      <td>-0.520783</td>\n",
       "      <td>1.000000</td>\n",
       "      <td>0.316743</td>\n",
       "    </tr>\n",
       "    <tr>\n",
       "      <th>NOX</th>\n",
       "      <td>-0.600006</td>\n",
       "      <td>0.256744</td>\n",
       "      <td>0.143061</td>\n",
       "      <td>-0.037299</td>\n",
       "      <td>-0.208496</td>\n",
       "      <td>-0.231636</td>\n",
       "      <td>0.009888</td>\n",
       "      <td>-0.102631</td>\n",
       "      <td>-0.169103</td>\n",
       "      <td>0.316743</td>\n",
       "      <td>1.000000</td>\n",
       "    </tr>\n",
       "  </tbody>\n",
       "</table>\n",
       "</div>"
      ],
      "text/plain": [
       "            AT        AP        AH      AFDP      GTEP       TIT       TAT  \\\n",
       "AT    1.000000 -0.412953 -0.549432 -0.099333 -0.049103  0.093067  0.338569   \n",
       "AP   -0.412953  1.000000  0.042573  0.040318  0.078575  0.029650 -0.223479   \n",
       "AH   -0.549432  0.042573  1.000000 -0.119249 -0.202784 -0.247781  0.010859   \n",
       "AFDP -0.099333  0.040318 -0.119249  1.000000  0.744251  0.627254 -0.571541   \n",
       "GTEP -0.049103  0.078575 -0.202784  0.744251  1.000000  0.874526 -0.756884   \n",
       "TIT   0.093067  0.029650 -0.247781  0.627254  0.874526  1.000000 -0.357320   \n",
       "TAT   0.338569 -0.223479  0.010859 -0.571541 -0.756884 -0.357320  1.000000   \n",
       "TEY  -0.207495  0.146939 -0.110272  0.717995  0.977042  0.891587 -0.720356   \n",
       "CDP  -0.100705  0.131198 -0.182010  0.727152  0.993784  0.887238 -0.744740   \n",
       "CO   -0.088588  0.041614  0.165505 -0.334207 -0.508259 -0.688272  0.063404   \n",
       "NOX  -0.600006  0.256744  0.143061 -0.037299 -0.208496 -0.231636  0.009888   \n",
       "\n",
       "           TEY       CDP        CO       NOX  \n",
       "AT   -0.207495 -0.100705 -0.088588 -0.600006  \n",
       "AP    0.146939  0.131198  0.041614  0.256744  \n",
       "AH   -0.110272 -0.182010  0.165505  0.143061  \n",
       "AFDP  0.717995  0.727152 -0.334207 -0.037299  \n",
       "GTEP  0.977042  0.993784 -0.508259 -0.208496  \n",
       "TIT   0.891587  0.887238 -0.688272 -0.231636  \n",
       "TAT  -0.720356 -0.744740  0.063404  0.009888  \n",
       "TEY   1.000000  0.988473 -0.541751 -0.102631  \n",
       "CDP   0.988473  1.000000 -0.520783 -0.169103  \n",
       "CO   -0.541751 -0.520783  1.000000  0.316743  \n",
       "NOX  -0.102631 -0.169103  0.316743  1.000000  "
      ]
     },
     "execution_count": 6,
     "metadata": {},
     "output_type": "execute_result"
    }
   ],
   "source": [
    "df.corr()"
   ]
  },
  {
   "cell_type": "code",
   "execution_count": 7,
   "id": "71008119",
   "metadata": {},
   "outputs": [
    {
     "data": {
      "text/html": [
       "<div>\n",
       "<style scoped>\n",
       "    .dataframe tbody tr th:only-of-type {\n",
       "        vertical-align: middle;\n",
       "    }\n",
       "\n",
       "    .dataframe tbody tr th {\n",
       "        vertical-align: top;\n",
       "    }\n",
       "\n",
       "    .dataframe thead th {\n",
       "        text-align: right;\n",
       "    }\n",
       "</style>\n",
       "<table border=\"1\" class=\"dataframe\">\n",
       "  <thead>\n",
       "    <tr style=\"text-align: right;\">\n",
       "      <th></th>\n",
       "      <th>AT</th>\n",
       "      <th>AP</th>\n",
       "      <th>AH</th>\n",
       "      <th>AFDP</th>\n",
       "      <th>GTEP</th>\n",
       "      <th>TIT</th>\n",
       "      <th>TAT</th>\n",
       "      <th>TEY</th>\n",
       "      <th>CDP</th>\n",
       "      <th>CO</th>\n",
       "      <th>NOX</th>\n",
       "    </tr>\n",
       "  </thead>\n",
       "  <tbody>\n",
       "    <tr>\n",
       "      <th>count</th>\n",
       "      <td>15039.000000</td>\n",
       "      <td>15039.00000</td>\n",
       "      <td>15039.000000</td>\n",
       "      <td>15039.000000</td>\n",
       "      <td>15039.000000</td>\n",
       "      <td>15039.000000</td>\n",
       "      <td>15039.000000</td>\n",
       "      <td>15039.000000</td>\n",
       "      <td>15039.000000</td>\n",
       "      <td>15039.000000</td>\n",
       "      <td>15039.000000</td>\n",
       "    </tr>\n",
       "    <tr>\n",
       "      <th>mean</th>\n",
       "      <td>17.764381</td>\n",
       "      <td>1013.19924</td>\n",
       "      <td>79.124174</td>\n",
       "      <td>4.200294</td>\n",
       "      <td>25.419061</td>\n",
       "      <td>1083.798770</td>\n",
       "      <td>545.396183</td>\n",
       "      <td>134.188464</td>\n",
       "      <td>12.102353</td>\n",
       "      <td>1.972499</td>\n",
       "      <td>68.190934</td>\n",
       "    </tr>\n",
       "    <tr>\n",
       "      <th>std</th>\n",
       "      <td>7.574323</td>\n",
       "      <td>6.41076</td>\n",
       "      <td>13.793439</td>\n",
       "      <td>0.760197</td>\n",
       "      <td>4.173916</td>\n",
       "      <td>16.527806</td>\n",
       "      <td>7.866803</td>\n",
       "      <td>15.829717</td>\n",
       "      <td>1.103196</td>\n",
       "      <td>2.222206</td>\n",
       "      <td>10.470586</td>\n",
       "    </tr>\n",
       "    <tr>\n",
       "      <th>min</th>\n",
       "      <td>0.522300</td>\n",
       "      <td>985.85000</td>\n",
       "      <td>30.344000</td>\n",
       "      <td>2.087400</td>\n",
       "      <td>17.878000</td>\n",
       "      <td>1000.800000</td>\n",
       "      <td>512.450000</td>\n",
       "      <td>100.170000</td>\n",
       "      <td>9.904400</td>\n",
       "      <td>0.000388</td>\n",
       "      <td>27.765000</td>\n",
       "    </tr>\n",
       "    <tr>\n",
       "      <th>25%</th>\n",
       "      <td>11.408000</td>\n",
       "      <td>1008.90000</td>\n",
       "      <td>69.750000</td>\n",
       "      <td>3.723900</td>\n",
       "      <td>23.294000</td>\n",
       "      <td>1079.600000</td>\n",
       "      <td>542.170000</td>\n",
       "      <td>127.985000</td>\n",
       "      <td>11.622000</td>\n",
       "      <td>0.858055</td>\n",
       "      <td>61.303500</td>\n",
       "    </tr>\n",
       "    <tr>\n",
       "      <th>50%</th>\n",
       "      <td>18.186000</td>\n",
       "      <td>1012.80000</td>\n",
       "      <td>82.266000</td>\n",
       "      <td>4.186200</td>\n",
       "      <td>25.082000</td>\n",
       "      <td>1088.700000</td>\n",
       "      <td>549.890000</td>\n",
       "      <td>133.780000</td>\n",
       "      <td>12.025000</td>\n",
       "      <td>1.390200</td>\n",
       "      <td>66.601000</td>\n",
       "    </tr>\n",
       "    <tr>\n",
       "      <th>75%</th>\n",
       "      <td>23.862500</td>\n",
       "      <td>1016.90000</td>\n",
       "      <td>90.043500</td>\n",
       "      <td>4.550900</td>\n",
       "      <td>27.184000</td>\n",
       "      <td>1096.000000</td>\n",
       "      <td>550.060000</td>\n",
       "      <td>140.895000</td>\n",
       "      <td>12.578000</td>\n",
       "      <td>2.160400</td>\n",
       "      <td>73.935500</td>\n",
       "    </tr>\n",
       "    <tr>\n",
       "      <th>max</th>\n",
       "      <td>34.929000</td>\n",
       "      <td>1034.20000</td>\n",
       "      <td>100.200000</td>\n",
       "      <td>7.610600</td>\n",
       "      <td>37.402000</td>\n",
       "      <td>1100.800000</td>\n",
       "      <td>550.610000</td>\n",
       "      <td>174.610000</td>\n",
       "      <td>15.081000</td>\n",
       "      <td>44.103000</td>\n",
       "      <td>119.890000</td>\n",
       "    </tr>\n",
       "  </tbody>\n",
       "</table>\n",
       "</div>"
      ],
      "text/plain": [
       "                 AT           AP            AH          AFDP          GTEP  \\\n",
       "count  15039.000000  15039.00000  15039.000000  15039.000000  15039.000000   \n",
       "mean      17.764381   1013.19924     79.124174      4.200294     25.419061   \n",
       "std        7.574323      6.41076     13.793439      0.760197      4.173916   \n",
       "min        0.522300    985.85000     30.344000      2.087400     17.878000   \n",
       "25%       11.408000   1008.90000     69.750000      3.723900     23.294000   \n",
       "50%       18.186000   1012.80000     82.266000      4.186200     25.082000   \n",
       "75%       23.862500   1016.90000     90.043500      4.550900     27.184000   \n",
       "max       34.929000   1034.20000    100.200000      7.610600     37.402000   \n",
       "\n",
       "                TIT           TAT           TEY           CDP            CO  \\\n",
       "count  15039.000000  15039.000000  15039.000000  15039.000000  15039.000000   \n",
       "mean    1083.798770    545.396183    134.188464     12.102353      1.972499   \n",
       "std       16.527806      7.866803     15.829717      1.103196      2.222206   \n",
       "min     1000.800000    512.450000    100.170000      9.904400      0.000388   \n",
       "25%     1079.600000    542.170000    127.985000     11.622000      0.858055   \n",
       "50%     1088.700000    549.890000    133.780000     12.025000      1.390200   \n",
       "75%     1096.000000    550.060000    140.895000     12.578000      2.160400   \n",
       "max     1100.800000    550.610000    174.610000     15.081000     44.103000   \n",
       "\n",
       "                NOX  \n",
       "count  15039.000000  \n",
       "mean      68.190934  \n",
       "std       10.470586  \n",
       "min       27.765000  \n",
       "25%       61.303500  \n",
       "50%       66.601000  \n",
       "75%       73.935500  \n",
       "max      119.890000  "
      ]
     },
     "execution_count": 7,
     "metadata": {},
     "output_type": "execute_result"
    }
   ],
   "source": [
    "df.describe()"
   ]
  },
  {
   "cell_type": "code",
   "execution_count": 8,
   "id": "1d261ee4",
   "metadata": {},
   "outputs": [
    {
     "name": "stderr",
     "output_type": "stream",
     "text": [
      "C:\\Users\\kalpana\\anaconda3\\lib\\site-packages\\seaborn\\_decorators.py:36: FutureWarning: Pass the following variable as a keyword arg: x. From version 0.12, the only valid positional argument will be `data`, and passing other arguments without an explicit keyword will result in an error or misinterpretation.\n",
      "  warnings.warn(\n"
     ]
    },
    {
     "data": {
      "text/plain": [
       "<AxesSubplot:xlabel='TEY'>"
      ]
     },
     "execution_count": 8,
     "metadata": {},
     "output_type": "execute_result"
    },
    {
     "data": {
      "image/png": "[encoded data removed]",
      "text/plain": [
       "<Figure size 432x288 with 1 Axes>"
      ]
     },
     "metadata": {
      "needs_background": "light"
     },
     "output_type": "display_data"
    }
   ],
   "source": [
    "sns.boxplot(df['TEY'],data=df)"
   ]
  },
  {
   "cell_type": "code",
   "execution_count": 9,
   "id": "30f71657",
   "metadata": {},
   "outputs": [],
   "source": [
    "Q1=df['TEY'].quantile(0.25)\n",
    "Q3=df['TEY'].quantile(0.75)\n",
    "IQR=Q3-Q1\n",
    "Whisker_width=1.5\n",
    "lower_wisker=Q1-(Whisker_width*IQR)\n",
    "upper_wisker=Q3+(Whisker_width*IQR)\n",
    "df['TEY']=np.where(df['TEY']>upper_wisker,upper_wisker,np.where(df['TEY']<lower_wisker,lower_wisker,df['TEY']))\n"
   ]
  },
  {
   "cell_type": "code",
   "execution_count": 10,
   "id": "aa1c3595",
   "metadata": {},
   "outputs": [
    {
     "name": "stderr",
     "output_type": "stream",
     "text": [
      "C:\\Users\\kalpana\\anaconda3\\lib\\site-packages\\seaborn\\_decorators.py:36: FutureWarning: Pass the following variable as a keyword arg: x. From version 0.12, the only valid positional argument will be `data`, and passing other arguments without an explicit keyword will result in an error or misinterpretation.\n",
      "  warnings.warn(\n"
     ]
    },
    {
     "data": {
      "text/plain": [
       "<AxesSubplot:xlabel='TEY'>"
      ]
     },
     "execution_count": 10,
     "metadata": {},
     "output_type": "execute_result"
    },
    {
     "data": {
      "image/png": "[encoded data removed]",
      "text/plain": [
       "<Figure size 432x288 with 1 Axes>"
      ]
     },
     "metadata": {
      "needs_background": "light"
     },
     "output_type": "display_data"
    }
   ],
   "source": [
    "sns.boxplot(df['TEY'],data=df)"
   ]
  },
  {
   "cell_type": "code",
   "execution_count": 11,
   "id": "f6f5e997",
   "metadata": {},
   "outputs": [
    {
     "data": {
      "text/plain": [
       "<AxesSubplot:>"
      ]
     },
     "execution_count": 11,
     "metadata": {},
     "output_type": "execute_result"
    },
    {
     "data": {
      "image/png": "[encoded data removed]",
      "text/plain": [
       "<Figure size 432x288 with 2 Axes>"
      ]
     },
     "metadata": {
      "needs_background": "light"
     },
     "output_type": "display_data"
    }
   ],
   "source": [
    "# correlation matrix\n",
    "sns.heatmap(df.corr())"
   ]
  },
  {
   "cell_type": "code",
   "execution_count": 12,
   "id": "b8da8341",
   "metadata": {},
   "outputs": [],
   "source": [
    "y=df['TEY']\n",
    "X=df.drop(['TEY'],axis=1)"
   ]
  },
  {
   "cell_type": "code",
   "execution_count": 13,
   "id": "7cbe7a5f",
   "metadata": {},
   "outputs": [
    {
     "name": "stdout",
     "output_type": "stream",
     "text": [
      "(12031, 10)\n",
      "(3008, 10)\n",
      "(12031,)\n",
      "(3008,)\n"
     ]
    }
   ],
   "source": [
    "from sklearn.model_selection import train_test_split\n",
    "X_train, X_test, y_train, y_test = train_test_split(X,y, test_size=0.2, random_state=42)\n",
    "print(X_train.shape)\n",
    "print(X_test.shape)\n",
    "print(y_train.shape)\n",
    "print(y_test.shape)"
   ]
  },
  {
   "cell_type": "code",
   "execution_count": 14,
   "id": "30707a8a",
   "metadata": {},
   "outputs": [
    {
     "data": {
      "text/plain": [
       "13312    134.46\n",
       "12627    111.88\n",
       "6393     133.72\n",
       "4990     133.79\n",
       "12462    110.77\n",
       "          ...  \n",
       "11478    119.25\n",
       "12302    133.74\n",
       "13093    146.31\n",
       "2699     150.07\n",
       "12506    111.77\n",
       "Name: TEY, Length: 3008, dtype: float64"
      ]
     },
     "execution_count": 14,
     "metadata": {},
     "output_type": "execute_result"
    }
   ],
   "source": [
    "y_test"
   ]
  },
  {
   "cell_type": "raw",
   "id": "38e39021",
   "metadata": {},
   "source": [
    "We need to make feature scaling before feeding the data to artificial neural networks"
   ]
  },
  {
   "cell_type": "code",
   "execution_count": 15,
   "id": "8a91d0f5",
   "metadata": {},
   "outputs": [
    {
     "name": "stdout",
     "output_type": "stream",
     "text": [
      "[[ 0.47056415 -0.81350628  0.56176672 ... -1.53396833  1.38554193\n",
      "  -1.26033592]\n",
      " [ 1.87696832 -0.23812732 -0.8085116  ...  0.19687597  0.38193337\n",
      "  -0.43948609]\n",
      " [-1.06016627  0.3683532   0.02618307 ...  1.70558468 -0.74786202\n",
      "  -0.55565494]\n",
      " ...\n",
      " [-0.18266419  0.25949772 -0.22487857 ... -1.51311479  1.66852278\n",
      "  -0.01228763]\n",
      " [-1.63532714  0.53941181  0.66076877 ... -1.46506096  1.45834724\n",
      "   4.35995498]\n",
      " [-1.55058329  2.0633885   0.26991392 ... -0.37704988  0.11086035\n",
      "   1.22540899]]\n",
      "[[ 8.37434948e-01 -4.71389059e-01 -2.35185234e-01 ...  1.02581678e-01\n",
      "  -3.14742847e-01 -6.90897711e-01]\n",
      " [ 3.55809603e-01  1.81743809e-01  8.28143198e-01 ... -1.19215152e+00\n",
      "   3.32445677e-01 -1.10266451e+00]\n",
      " [ 3.30954933e-01 -1.13721060e-01  2.78043117e-01 ...  1.82608190e-02\n",
      "   1.38072036e-03 -3.09131614e-01]\n",
      " ...\n",
      " [ 1.49581931e+00 -7.66853928e-01 -1.05608930e+00 ...  8.84136309e-01\n",
      "  -1.41784951e-01 -8.75886053e-01]\n",
      " [ 7.46345225e-01 -2.22576538e-01 -5.52949867e-01 ...  1.09267177e+00\n",
      "  -5.04104577e-01 -8.31199497e-02]\n",
      " [ 3.18527598e-01 -7.82404710e-01  2.53002277e-01 ... -1.25924553e+00\n",
      "   1.71868963e+00 -1.42787976e+00]]\n"
     ]
    }
   ],
   "source": [
    "from sklearn.preprocessing import StandardScaler\n",
    "ss = StandardScaler()\n",
    "X_train = ss.fit_transform(X_train)\n",
    "X_test = ss.transform(X_test)\n",
    "print(X_train)\n",
    "print(X_test)"
   ]
  },
  {
   "cell_type": "code",
   "execution_count": 16,
   "id": "0df068f6",
   "metadata": {},
   "outputs": [],
   "source": [
    "from tensorflow.keras.models import Sequential\n",
    "from tensorflow.keras.layers import Dense\n",
    "from tensorflow.keras.callbacks import EarlyStopping"
   ]
  },
  {
   "cell_type": "code",
   "execution_count": 17,
   "id": "a232d203",
   "metadata": {},
   "outputs": [],
   "source": [
    "import tensorflow as tf"
   ]
  },
  {
   "cell_type": "code",
   "execution_count": 18,
   "id": "21d4620d",
   "metadata": {},
   "outputs": [],
   "source": [
    "from tensorflow.keras import Model\n",
    "from tensorflow.keras import Sequential\n",
    "from tensorflow.keras.optimizers import Adam\n",
    "from sklearn.preprocessing import StandardScaler\n",
    "from tensorflow.keras.layers import Dense, Dropout\n",
    "from sklearn.model_selection import train_test_split\n",
    "from tensorflow.keras.losses import MeanSquaredLogarithmicError"
   ]
  },
  {
   "cell_type": "code",
   "execution_count": 19,
   "id": "26f269a1",
   "metadata": {},
   "outputs": [],
   "source": [
    "#Initialising ANN\n",
    "ann = tf.keras.models.Sequential()"
   ]
  },
  {
   "cell_type": "code",
   "execution_count": 20,
   "id": "f73a9f97",
   "metadata": {},
   "outputs": [],
   "source": [
    "#Adding First Hidden Layer\n",
    "ann.add(tf.keras.layers.Dense(units=6,activation=\"relu\"))"
   ]
  },
  {
   "cell_type": "code",
   "execution_count": 21,
   "id": "ba6850fb",
   "metadata": {},
   "outputs": [],
   "source": [
    "#Adding First Hidden Layer\n",
    "ann.add(tf.keras.layers.Dense(units=1,activation=\"relu\"))"
   ]
  },
  {
   "cell_type": "code",
   "execution_count": 22,
   "id": "e163ed7e",
   "metadata": {},
   "outputs": [],
   "source": [
    " ann.compile(optimizer=\"adam\",loss=\"mse\",metrics=[\"mae\"])"
   ]
  },
  {
   "cell_type": "code",
   "execution_count": 23,
   "id": "6a5ef5f1",
   "metadata": {},
   "outputs": [
    {
     "name": "stdout",
     "output_type": "stream",
     "text": [
      "Epoch 1/100\n",
      "376/376 [==============================] - 7s 16ms/step - loss: 17421.5742 - mae: 131.1225 - val_loss: 16394.8359 - val_mae: 127.2797\n",
      "Epoch 2/100\n",
      "376/376 [==============================] - 1s 3ms/step - loss: 14873.4199 - mae: 121.1964 - val_loss: 13020.7217 - val_mae: 113.2859\n",
      "Epoch 3/100\n",
      "376/376 [==============================] - 1s 2ms/step - loss: 11064.9199 - mae: 103.3372 - val_loss: 9169.2373 - val_mae: 92.4717\n",
      "Epoch 4/100\n",
      "376/376 [==============================] - 1s 3ms/step - loss: 7737.8579 - mae: 82.1424 - val_loss: 6533.9565 - val_mae: 73.1230\n",
      "Epoch 5/100\n",
      "376/376 [==============================] - 1s 2ms/step - loss: 5694.7207 - mae: 66.9542 - val_loss: 4969.3496 - val_mae: 61.5787\n",
      "Epoch 6/100\n",
      "376/376 [==============================] - 1s 3ms/step - loss: 4391.0688 - mae: 57.1580 - val_loss: 3859.5686 - val_mae: 52.8799\n",
      "Epoch 7/100\n",
      "376/376 [==============================] - 1s 2ms/step - loss: 3399.3530 - mae: 49.0339 - val_loss: 2976.6616 - val_mae: 45.4098\n",
      "Epoch 8/100\n",
      "376/376 [==============================] - 1s 2ms/step - loss: 2572.4485 - mae: 41.9610 - val_loss: 2212.4353 - val_mae: 38.9557\n",
      "Epoch 9/100\n",
      "376/376 [==============================] - 1s 2ms/step - loss: 1826.7256 - mae: 35.3798 - val_loss: 1512.0474 - val_mae: 32.3902\n",
      "Epoch 10/100\n",
      "376/376 [==============================] - 1s 2ms/step - loss: 1200.6741 - mae: 28.6852 - val_loss: 984.0575 - val_mae: 25.8825\n",
      "Epoch 11/100\n",
      "376/376 [==============================] - 1s 3ms/step - loss: 772.9154 - mae: 22.2750 - val_loss: 664.5284 - val_mae: 20.2147\n",
      "Epoch 12/100\n",
      "376/376 [==============================] - 1s 2ms/step - loss: 547.1759 - mae: 17.7378 - val_loss: 510.1068 - val_mae: 16.9243\n",
      "Epoch 13/100\n",
      "376/376 [==============================] - 1s 2ms/step - loss: 434.3067 - mae: 15.3876 - val_loss: 417.8651 - val_mae: 15.0838\n",
      "Epoch 14/100\n",
      "376/376 [==============================] - 1s 3ms/step - loss: 359.6906 - mae: 13.8879 - val_loss: 346.0741 - val_mae: 13.6073\n",
      "Epoch 15/100\n",
      "376/376 [==============================] - 1s 2ms/step - loss: 298.4419 - mae: 12.5528 - val_loss: 284.6257 - val_mae: 12.1946\n",
      "Epoch 16/100\n",
      "376/376 [==============================] - 1s 2ms/step - loss: 246.3566 - mae: 11.2624 - val_loss: 233.0771 - val_mae: 10.8555\n",
      "Epoch 17/100\n",
      "376/376 [==============================] - 1s 2ms/step - loss: 203.4443 - mae: 10.0825 - val_loss: 190.8305 - val_mae: 9.6940\n",
      "Epoch 18/100\n",
      "376/376 [==============================] - 1s 2ms/step - loss: 168.6174 - mae: 9.0589 - val_loss: 157.4404 - val_mae: 8.6476\n",
      "Epoch 19/100\n",
      "376/376 [==============================] - 1s 2ms/step - loss: 140.3198 - mae: 8.1032 - val_loss: 130.0572 - val_mae: 7.7027\n",
      "Epoch 20/100\n",
      "376/376 [==============================] - 1s 3ms/step - loss: 116.4123 - mae: 7.2309 - val_loss: 107.3688 - val_mae: 6.9108\n",
      "Epoch 21/100\n",
      "376/376 [==============================] - 1s 2ms/step - loss: 96.8062 - mae: 6.4996 - val_loss: 89.4758 - val_mae: 6.1607\n",
      "Epoch 22/100\n",
      "376/376 [==============================] - 1s 2ms/step - loss: 80.8824 - mae: 5.8161 - val_loss: 74.6645 - val_mae: 5.5657\n",
      "Epoch 23/100\n",
      "376/376 [==============================] - 1s 2ms/step - loss: 67.4499 - mae: 5.2233 - val_loss: 62.5056 - val_mae: 4.9605\n",
      "Epoch 24/100\n",
      "376/376 [==============================] - 1s 3ms/step - loss: 56.4516 - mae: 4.6915 - val_loss: 52.9272 - val_mae: 4.4996\n",
      "Epoch 25/100\n",
      "376/376 [==============================] - 1s 3ms/step - loss: 47.7028 - mae: 4.2612 - val_loss: 45.4518 - val_mae: 4.0962\n",
      "Epoch 26/100\n",
      "376/376 [==============================] - 1s 3ms/step - loss: 40.5488 - mae: 3.8718 - val_loss: 38.8132 - val_mae: 3.7390\n",
      "Epoch 27/100\n",
      "376/376 [==============================] - 1s 2ms/step - loss: 34.6234 - mae: 3.5327 - val_loss: 33.4254 - val_mae: 3.4259\n",
      "Epoch 28/100\n",
      "376/376 [==============================] - 1s 2ms/step - loss: 29.7261 - mae: 3.2314 - val_loss: 28.7008 - val_mae: 3.1186\n",
      "Epoch 29/100\n",
      "376/376 [==============================] - 1s 2ms/step - loss: 25.5012 - mae: 2.9331 - val_loss: 24.7917 - val_mae: 2.8468\n",
      "Epoch 30/100\n",
      "376/376 [==============================] - 1s 3ms/step - loss: 22.0150 - mae: 2.6672 - val_loss: 21.4617 - val_mae: 2.5566\n",
      "Epoch 31/100\n",
      "376/376 [==============================] - 1s 3ms/step - loss: 19.1560 - mae: 2.4442 - val_loss: 18.7342 - val_mae: 2.3266\n",
      "Epoch 32/100\n",
      "376/376 [==============================] - 1s 2ms/step - loss: 16.7212 - mae: 2.2340 - val_loss: 16.4913 - val_mae: 2.1388\n",
      "Epoch 33/100\n",
      "376/376 [==============================] - 1s 2ms/step - loss: 14.5778 - mae: 2.0426 - val_loss: 14.3078 - val_mae: 2.0035\n",
      "Epoch 34/100\n",
      "376/376 [==============================] - 1s 2ms/step - loss: 12.7817 - mae: 1.8730 - val_loss: 12.5658 - val_mae: 1.7954\n",
      "Epoch 35/100\n",
      "376/376 [==============================] - 1s 2ms/step - loss: 11.3148 - mae: 1.7318 - val_loss: 11.1263 - val_mae: 1.7130\n",
      "Epoch 36/100\n",
      "376/376 [==============================] - 1s 3ms/step - loss: 10.0321 - mae: 1.6117 - val_loss: 9.9982 - val_mae: 1.6413\n",
      "Epoch 37/100\n",
      "376/376 [==============================] - 1s 3ms/step - loss: 8.9060 - mae: 1.5241 - val_loss: 8.7675 - val_mae: 1.4861\n",
      "Epoch 38/100\n",
      "376/376 [==============================] - 1s 3ms/step - loss: 7.9211 - mae: 1.4351 - val_loss: 7.8709 - val_mae: 1.3918\n",
      "Epoch 39/100\n",
      "376/376 [==============================] - 1s 2ms/step - loss: 7.1202 - mae: 1.3642 - val_loss: 7.0084 - val_mae: 1.3061\n",
      "Epoch 40/100\n",
      "376/376 [==============================] - 1s 3ms/step - loss: 6.4259 - mae: 1.3061 - val_loss: 6.2839 - val_mae: 1.2786\n",
      "Epoch 41/100\n",
      "376/376 [==============================] - 1s 2ms/step - loss: 5.8504 - mae: 1.2561 - val_loss: 5.8003 - val_mae: 1.2690\n",
      "Epoch 42/100\n",
      "376/376 [==============================] - 1s 3ms/step - loss: 5.3350 - mae: 1.2073 - val_loss: 5.1903 - val_mae: 1.1697\n",
      "Epoch 43/100\n",
      "376/376 [==============================] - 1s 3ms/step - loss: 4.8985 - mae: 1.1682 - val_loss: 4.7356 - val_mae: 1.1438\n",
      "Epoch 44/100\n",
      "376/376 [==============================] - 1s 2ms/step - loss: 4.4992 - mae: 1.1290 - val_loss: 4.2411 - val_mae: 1.0910\n",
      "Epoch 45/100\n",
      "376/376 [==============================] - 1s 3ms/step - loss: 4.1527 - mae: 1.0943 - val_loss: 3.9285 - val_mae: 1.0459\n",
      "Epoch 46/100\n",
      "376/376 [==============================] - 1s 3ms/step - loss: 3.8303 - mae: 1.0619 - val_loss: 3.6557 - val_mae: 1.0579\n",
      "Epoch 47/100\n",
      "376/376 [==============================] - 1s 3ms/step - loss: 3.5416 - mae: 1.0303 - val_loss: 3.3044 - val_mae: 1.0024\n",
      "Epoch 48/100\n",
      "376/376 [==============================] - 1s 3ms/step - loss: 3.3060 - mae: 1.0116 - val_loss: 3.0481 - val_mae: 0.9529\n",
      "Epoch 49/100\n",
      "376/376 [==============================] - 1s 3ms/step - loss: 3.0632 - mae: 0.9812 - val_loss: 2.8626 - val_mae: 0.9389\n",
      "Epoch 50/100\n",
      "376/376 [==============================] - 1s 3ms/step - loss: 2.8474 - mae: 0.9654 - val_loss: 2.6528 - val_mae: 0.9381\n",
      "Epoch 51/100\n",
      "376/376 [==============================] - 1s 3ms/step - loss: 2.6477 - mae: 0.9384 - val_loss: 2.5124 - val_mae: 0.9016\n",
      "Epoch 52/100\n",
      "376/376 [==============================] - 1s 2ms/step - loss: 2.4731 - mae: 0.9187 - val_loss: 2.3583 - val_mae: 0.9050\n",
      "Epoch 53/100\n",
      "376/376 [==============================] - 1s 3ms/step - loss: 2.3024 - mae: 0.9031 - val_loss: 2.1873 - val_mae: 0.8536\n",
      "Epoch 54/100\n",
      "376/376 [==============================] - 1s 3ms/step - loss: 2.1525 - mae: 0.8820 - val_loss: 2.1787 - val_mae: 0.9024\n",
      "Epoch 55/100\n",
      "376/376 [==============================] - 1s 3ms/step - loss: 2.0077 - mae: 0.8678 - val_loss: 1.9434 - val_mae: 0.8340\n",
      "Epoch 56/100\n",
      "376/376 [==============================] - 1s 3ms/step - loss: 1.8589 - mae: 0.8437 - val_loss: 1.8202 - val_mae: 0.8060\n",
      "Epoch 57/100\n",
      "376/376 [==============================] - 1s 3ms/step - loss: 1.7268 - mae: 0.8193 - val_loss: 1.7605 - val_mae: 0.8201\n",
      "Epoch 58/100\n",
      "376/376 [==============================] - 1s 3ms/step - loss: 1.5876 - mae: 0.8002 - val_loss: 1.5299 - val_mae: 0.7529\n",
      "Epoch 59/100\n",
      "376/376 [==============================] - 1s 3ms/step - loss: 1.4925 - mae: 0.7820 - val_loss: 1.5034 - val_mae: 0.7606\n",
      "Epoch 60/100\n",
      "376/376 [==============================] - 1s 3ms/step - loss: 1.4566 - mae: 0.7746 - val_loss: 1.5525 - val_mae: 0.7622\n",
      "Epoch 61/100\n",
      "376/376 [==============================] - 1s 2ms/step - loss: 1.4318 - mae: 0.7679 - val_loss: 1.4629 - val_mae: 0.7569\n",
      "Epoch 62/100\n",
      "376/376 [==============================] - 1s 2ms/step - loss: 1.4157 - mae: 0.7636 - val_loss: 1.4389 - val_mae: 0.7263\n",
      "Epoch 63/100\n",
      "376/376 [==============================] - 1s 2ms/step - loss: 1.3998 - mae: 0.7613 - val_loss: 1.4053 - val_mae: 0.7361\n",
      "Epoch 64/100\n",
      "376/376 [==============================] - 1s 3ms/step - loss: 1.3769 - mae: 0.7554 - val_loss: 1.4226 - val_mae: 0.7276\n",
      "Epoch 65/100\n",
      "376/376 [==============================] - 1s 2ms/step - loss: 1.3669 - mae: 0.7546 - val_loss: 1.4269 - val_mae: 0.7367\n",
      "Epoch 66/100\n",
      "376/376 [==============================] - 1s 2ms/step - loss: 1.3588 - mae: 0.7538 - val_loss: 1.3513 - val_mae: 0.7247\n",
      "Epoch 67/100\n",
      "376/376 [==============================] - 1s 3ms/step - loss: 1.3454 - mae: 0.7494 - val_loss: 1.3444 - val_mae: 0.7153\n",
      "Epoch 68/100\n",
      "376/376 [==============================] - 1s 2ms/step - loss: 1.3183 - mae: 0.7410 - val_loss: 1.3233 - val_mae: 0.7236\n",
      "Epoch 69/100\n",
      "376/376 [==============================] - 1s 3ms/step - loss: 1.3158 - mae: 0.7433 - val_loss: 1.3231 - val_mae: 0.7141\n",
      "Epoch 70/100\n",
      "376/376 [==============================] - 1s 2ms/step - loss: 1.3019 - mae: 0.7429 - val_loss: 1.3468 - val_mae: 0.7153\n",
      "Epoch 71/100\n",
      "376/376 [==============================] - 1s 2ms/step - loss: 1.2843 - mae: 0.7355 - val_loss: 1.3363 - val_mae: 0.7482\n",
      "Epoch 72/100\n",
      "376/376 [==============================] - 1s 2ms/step - loss: 1.2784 - mae: 0.7354 - val_loss: 1.3002 - val_mae: 0.7399\n",
      "Epoch 73/100\n",
      "376/376 [==============================] - 1s 2ms/step - loss: 1.2641 - mae: 0.7313 - val_loss: 1.2662 - val_mae: 0.7098\n",
      "Epoch 74/100\n",
      "376/376 [==============================] - 1s 2ms/step - loss: 1.2549 - mae: 0.7308 - val_loss: 1.2555 - val_mae: 0.6971\n",
      "Epoch 75/100\n",
      "376/376 [==============================] - 1s 3ms/step - loss: 1.2397 - mae: 0.7274 - val_loss: 1.2769 - val_mae: 0.7096\n",
      "Epoch 76/100\n",
      "376/376 [==============================] - 1s 2ms/step - loss: 1.2434 - mae: 0.7277 - val_loss: 1.2521 - val_mae: 0.7416\n",
      "Epoch 77/100\n",
      "376/376 [==============================] - 1s 2ms/step - loss: 1.2294 - mae: 0.7262 - val_loss: 1.2777 - val_mae: 0.7346\n",
      "Epoch 78/100\n",
      "376/376 [==============================] - 1s 2ms/step - loss: 1.2126 - mae: 0.7211 - val_loss: 1.2307 - val_mae: 0.6897\n",
      "Epoch 79/100\n",
      "376/376 [==============================] - 1s 2ms/step - loss: 1.2137 - mae: 0.7205 - val_loss: 1.1937 - val_mae: 0.6933\n",
      "Epoch 80/100\n",
      "376/376 [==============================] - 1s 2ms/step - loss: 1.1969 - mae: 0.7205 - val_loss: 1.2180 - val_mae: 0.6855\n",
      "Epoch 81/100\n",
      "376/376 [==============================] - 1s 2ms/step - loss: 1.1864 - mae: 0.7157 - val_loss: 1.1971 - val_mae: 0.7127\n",
      "Epoch 82/100\n",
      "376/376 [==============================] - 1s 2ms/step - loss: 1.1843 - mae: 0.7187 - val_loss: 1.1861 - val_mae: 0.6827\n",
      "Epoch 83/100\n",
      "376/376 [==============================] - 1s 2ms/step - loss: 1.1832 - mae: 0.7167 - val_loss: 1.1721 - val_mae: 0.6969\n",
      "Epoch 84/100\n",
      "376/376 [==============================] - 1s 2ms/step - loss: 1.1676 - mae: 0.7120 - val_loss: 1.1597 - val_mae: 0.6892\n",
      "Epoch 85/100\n",
      "376/376 [==============================] - 1s 2ms/step - loss: 1.1749 - mae: 0.7145 - val_loss: 1.1496 - val_mae: 0.6732\n",
      "Epoch 86/100\n",
      "376/376 [==============================] - 1s 3ms/step - loss: 1.1631 - mae: 0.7106 - val_loss: 1.1820 - val_mae: 0.6896\n",
      "Epoch 87/100\n",
      "376/376 [==============================] - 1s 2ms/step - loss: 1.1588 - mae: 0.7117 - val_loss: 1.1434 - val_mae: 0.7028\n",
      "Epoch 88/100\n",
      "376/376 [==============================] - 1s 3ms/step - loss: 1.1594 - mae: 0.7102 - val_loss: 1.1332 - val_mae: 0.6858\n",
      "Epoch 89/100\n",
      "376/376 [==============================] - 1s 2ms/step - loss: 1.1555 - mae: 0.7129 - val_loss: 1.1426 - val_mae: 0.6916\n",
      "Epoch 90/100\n",
      "376/376 [==============================] - 1s 2ms/step - loss: 1.1511 - mae: 0.7065 - val_loss: 1.1495 - val_mae: 0.7123\n",
      "Epoch 91/100\n",
      "376/376 [==============================] - 1s 3ms/step - loss: 1.1450 - mae: 0.7051 - val_loss: 1.1640 - val_mae: 0.7231\n",
      "Epoch 92/100\n",
      "376/376 [==============================] - 1s 2ms/step - loss: 1.1463 - mae: 0.7092 - val_loss: 1.1497 - val_mae: 0.6834\n",
      "Epoch 93/100\n",
      "376/376 [==============================] - 1s 2ms/step - loss: 1.1465 - mae: 0.7074 - val_loss: 1.1318 - val_mae: 0.7017\n",
      "Epoch 94/100\n",
      "376/376 [==============================] - 1s 2ms/step - loss: 1.1425 - mae: 0.7058 - val_loss: 1.1134 - val_mae: 0.6637\n",
      "Epoch 95/100\n",
      "376/376 [==============================] - 1s 3ms/step - loss: 1.1324 - mae: 0.7020 - val_loss: 1.1262 - val_mae: 0.6985\n",
      "Epoch 96/100\n",
      "376/376 [==============================] - 1s 3ms/step - loss: 1.1260 - mae: 0.7036 - val_loss: 1.1018 - val_mae: 0.6731\n",
      "Epoch 97/100\n",
      "376/376 [==============================] - 1s 3ms/step - loss: 1.1300 - mae: 0.7038 - val_loss: 1.1108 - val_mae: 0.6662\n",
      "Epoch 98/100\n",
      "376/376 [==============================] - 1s 2ms/step - loss: 1.1264 - mae: 0.7012 - val_loss: 1.1253 - val_mae: 0.6844\n",
      "Epoch 99/100\n",
      "376/376 [==============================] - 1s 3ms/step - loss: 1.1304 - mae: 0.7007 - val_loss: 1.1108 - val_mae: 0.6720\n",
      "Epoch 100/100\n",
      "376/376 [==============================] - 1s 2ms/step - loss: 1.1180 - mae: 0.6994 - val_loss: 1.1012 - val_mae: 0.6700\n"
     ]
    }
   ],
   "source": [
    "history = ann.fit(X_train, y_train,\n",
    "          batch_size=32, epochs=100,\n",
    "          validation_data=(X_test, y_test))"
   ]
  },
  {
   "cell_type": "code",
   "execution_count": 24,
   "id": "2e820b5a",
   "metadata": {},
   "outputs": [
    {
     "data": {
      "text/html": [
       "<div>\n",
       "<style scoped>\n",
       "    .dataframe tbody tr th:only-of-type {\n",
       "        vertical-align: middle;\n",
       "    }\n",
       "\n",
       "    .dataframe tbody tr th {\n",
       "        vertical-align: top;\n",
       "    }\n",
       "\n",
       "    .dataframe thead th {\n",
       "        text-align: right;\n",
       "    }\n",
       "</style>\n",
       "<table border=\"1\" class=\"dataframe\">\n",
       "  <thead>\n",
       "    <tr style=\"text-align: right;\">\n",
       "      <th></th>\n",
       "      <th>loss</th>\n",
       "      <th>mae</th>\n",
       "      <th>val_loss</th>\n",
       "      <th>val_mae</th>\n",
       "    </tr>\n",
       "  </thead>\n",
       "  <tbody>\n",
       "    <tr>\n",
       "      <th>0</th>\n",
       "      <td>17421.574219</td>\n",
       "      <td>131.122543</td>\n",
       "      <td>16394.835938</td>\n",
       "      <td>127.279709</td>\n",
       "    </tr>\n",
       "    <tr>\n",
       "      <th>1</th>\n",
       "      <td>14873.419922</td>\n",
       "      <td>121.196449</td>\n",
       "      <td>13020.721680</td>\n",
       "      <td>113.285873</td>\n",
       "    </tr>\n",
       "    <tr>\n",
       "      <th>2</th>\n",
       "      <td>11064.919922</td>\n",
       "      <td>103.337242</td>\n",
       "      <td>9169.237305</td>\n",
       "      <td>92.471687</td>\n",
       "    </tr>\n",
       "    <tr>\n",
       "      <th>3</th>\n",
       "      <td>7737.857910</td>\n",
       "      <td>82.142372</td>\n",
       "      <td>6533.956543</td>\n",
       "      <td>73.123032</td>\n",
       "    </tr>\n",
       "    <tr>\n",
       "      <th>4</th>\n",
       "      <td>5694.720703</td>\n",
       "      <td>66.954239</td>\n",
       "      <td>4969.349609</td>\n",
       "      <td>61.578697</td>\n",
       "    </tr>\n",
       "    <tr>\n",
       "      <th>...</th>\n",
       "      <td>...</td>\n",
       "      <td>...</td>\n",
       "      <td>...</td>\n",
       "      <td>...</td>\n",
       "    </tr>\n",
       "    <tr>\n",
       "      <th>95</th>\n",
       "      <td>1.125957</td>\n",
       "      <td>0.703568</td>\n",
       "      <td>1.101819</td>\n",
       "      <td>0.673136</td>\n",
       "    </tr>\n",
       "    <tr>\n",
       "      <th>96</th>\n",
       "      <td>1.130028</td>\n",
       "      <td>0.703816</td>\n",
       "      <td>1.110827</td>\n",
       "      <td>0.666212</td>\n",
       "    </tr>\n",
       "    <tr>\n",
       "      <th>97</th>\n",
       "      <td>1.126427</td>\n",
       "      <td>0.701173</td>\n",
       "      <td>1.125319</td>\n",
       "      <td>0.684435</td>\n",
       "    </tr>\n",
       "    <tr>\n",
       "      <th>98</th>\n",
       "      <td>1.130412</td>\n",
       "      <td>0.700694</td>\n",
       "      <td>1.110790</td>\n",
       "      <td>0.671970</td>\n",
       "    </tr>\n",
       "    <tr>\n",
       "      <th>99</th>\n",
       "      <td>1.117969</td>\n",
       "      <td>0.699389</td>\n",
       "      <td>1.101150</td>\n",
       "      <td>0.670035</td>\n",
       "    </tr>\n",
       "  </tbody>\n",
       "</table>\n",
       "<p>100 rows × 4 columns</p>\n",
       "</div>"
      ],
      "text/plain": [
       "            loss         mae      val_loss     val_mae\n",
       "0   17421.574219  131.122543  16394.835938  127.279709\n",
       "1   14873.419922  121.196449  13020.721680  113.285873\n",
       "2   11064.919922  103.337242   9169.237305   92.471687\n",
       "3    7737.857910   82.142372   6533.956543   73.123032\n",
       "4    5694.720703   66.954239   4969.349609   61.578697\n",
       "..           ...         ...           ...         ...\n",
       "95      1.125957    0.703568      1.101819    0.673136\n",
       "96      1.130028    0.703816      1.110827    0.666212\n",
       "97      1.126427    0.701173      1.125319    0.684435\n",
       "98      1.130412    0.700694      1.110790    0.671970\n",
       "99      1.117969    0.699389      1.101150    0.670035\n",
       "\n",
       "[100 rows x 4 columns]"
      ]
     },
     "execution_count": 24,
     "metadata": {},
     "output_type": "execute_result"
    }
   ],
   "source": [
    "pd.DataFrame(ann.history.history)"
   ]
  },
  {
   "cell_type": "code",
   "execution_count": 25,
   "id": "07e328ca",
   "metadata": {},
   "outputs": [
    {
     "data": {
      "text/plain": [
       "<AxesSubplot:>"
      ]
     },
     "execution_count": 25,
     "metadata": {},
     "output_type": "execute_result"
    },
    {
     "data": {
      "image/png": "[encoded data removed]",
      "text/plain": [
       "<Figure size 864x720 with 1 Axes>"
      ]
     },
     "metadata": {},
     "output_type": "display_data"
    }
   ],
   "source": [
    "plt.style.use(\"ggplot\")\n",
    "pd.DataFrame(ann.history.history).plot(figsize=(12,10))"
   ]
  },
  {
   "cell_type": "code",
   "execution_count": 26,
   "id": "a689ab4d",
   "metadata": {},
   "outputs": [
    {
     "name": "stdout",
     "output_type": "stream",
     "text": [
      "376/376 [==============================] - 1s 2ms/step - loss: 1.1203 - mae: 0.6899\n"
     ]
    },
    {
     "data": {
      "text/plain": [
       "[1.1203224658966064, 0.6898869872093201]"
      ]
     },
     "execution_count": 26,
     "metadata": {},
     "output_type": "execute_result"
    }
   ],
   "source": [
    "ann.evaluate(X_train,y_train)"
   ]
  },
  {
   "cell_type": "code",
   "execution_count": 27,
   "id": "3c143a9f",
   "metadata": {},
   "outputs": [
    {
     "name": "stdout",
     "output_type": "stream",
     "text": [
      "94/94 [==============================] - 0s 2ms/step - loss: 1.1012 - mae: 0.6700\n"
     ]
    },
    {
     "data": {
      "text/plain": [
       "[1.101150393486023, 0.6700345873832703]"
      ]
     },
     "execution_count": 27,
     "metadata": {},
     "output_type": "execute_result"
    }
   ],
   "source": [
    "ann.evaluate(X_test,y_test)"
   ]
  },
  {
   "cell_type": "code",
   "execution_count": 28,
   "id": "60fcf810",
   "metadata": {},
   "outputs": [
    {
     "name": "stdout",
     "output_type": "stream",
     "text": [
      "94/94 [==============================] - 0s 2ms/step\n"
     ]
    },
    {
     "data": {
      "text/html": [
       "<div>\n",
       "<style scoped>\n",
       "    .dataframe tbody tr th:only-of-type {\n",
       "        vertical-align: middle;\n",
       "    }\n",
       "\n",
       "    .dataframe tbody tr th {\n",
       "        vertical-align: top;\n",
       "    }\n",
       "\n",
       "    .dataframe thead th {\n",
       "        text-align: right;\n",
       "    }\n",
       "</style>\n",
       "<table border=\"1\" class=\"dataframe\">\n",
       "  <thead>\n",
       "    <tr style=\"text-align: right;\">\n",
       "      <th></th>\n",
       "      <th>Real Values</th>\n",
       "      <th>Predictions</th>\n",
       "    </tr>\n",
       "  </thead>\n",
       "  <tbody>\n",
       "    <tr>\n",
       "      <th>0</th>\n",
       "      <td>NaN</td>\n",
       "      <td>134.674393</td>\n",
       "    </tr>\n",
       "    <tr>\n",
       "      <th>1</th>\n",
       "      <td>NaN</td>\n",
       "      <td>112.363312</td>\n",
       "    </tr>\n",
       "    <tr>\n",
       "      <th>2</th>\n",
       "      <td>NaN</td>\n",
       "      <td>134.406876</td>\n",
       "    </tr>\n",
       "    <tr>\n",
       "      <th>3</th>\n",
       "      <td>NaN</td>\n",
       "      <td>134.032700</td>\n",
       "    </tr>\n",
       "    <tr>\n",
       "      <th>4</th>\n",
       "      <td>NaN</td>\n",
       "      <td>110.901260</td>\n",
       "    </tr>\n",
       "    <tr>\n",
       "      <th>...</th>\n",
       "      <td>...</td>\n",
       "      <td>...</td>\n",
       "    </tr>\n",
       "    <tr>\n",
       "      <th>3003</th>\n",
       "      <td>NaN</td>\n",
       "      <td>119.342148</td>\n",
       "    </tr>\n",
       "    <tr>\n",
       "      <th>3004</th>\n",
       "      <td>NaN</td>\n",
       "      <td>134.016708</td>\n",
       "    </tr>\n",
       "    <tr>\n",
       "      <th>3005</th>\n",
       "      <td>NaN</td>\n",
       "      <td>145.852493</td>\n",
       "    </tr>\n",
       "    <tr>\n",
       "      <th>3006</th>\n",
       "      <td>NaN</td>\n",
       "      <td>150.021561</td>\n",
       "    </tr>\n",
       "    <tr>\n",
       "      <th>3007</th>\n",
       "      <td>NaN</td>\n",
       "      <td>111.937943</td>\n",
       "    </tr>\n",
       "  </tbody>\n",
       "</table>\n",
       "<p>3008 rows × 2 columns</p>\n",
       "</div>"
      ],
      "text/plain": [
       "     Real Values  Predictions\n",
       "0            NaN   134.674393\n",
       "1            NaN   112.363312\n",
       "2            NaN   134.406876\n",
       "3            NaN   134.032700\n",
       "4            NaN   110.901260\n",
       "...          ...          ...\n",
       "3003         NaN   119.342148\n",
       "3004         NaN   134.016708\n",
       "3005         NaN   145.852493\n",
       "3006         NaN   150.021561\n",
       "3007         NaN   111.937943\n",
       "\n",
       "[3008 rows x 2 columns]"
      ]
     },
     "execution_count": 28,
     "metadata": {},
     "output_type": "execute_result"
    }
   ],
   "source": [
    "predictions = ann.predict(X_test)\n",
    "predictions_df = pd.DataFrame(np.ravel(predictions),columns=[\"Predictions\"])\n",
    "comparison_df = pd.concat([pd.DataFrame(y_test,columns=[\"Real Values\"]), predictions_df],axis=1)\n",
    "comparison_df "
   ]
  },
  {
   "cell_type": "code",
   "execution_count": 29,
   "id": "80819763",
   "metadata": {},
   "outputs": [
    {
     "name": "stdout",
     "output_type": "stream",
     "text": [
      "(3008,)\n",
      "(3008, 1)\n"
     ]
    }
   ],
   "source": [
    "print(y_test.shape)       # The actual values are 1D arrays\n",
    "print(predictions.shape)  # The predictions are 2D arrays"
   ]
  },
  {
   "cell_type": "code",
   "execution_count": 30,
   "id": "783e5966",
   "metadata": {},
   "outputs": [
    {
     "name": "stderr",
     "output_type": "stream",
     "text": [
      "C:\\Users\\kalpana\\anaconda3\\lib\\site-packages\\seaborn\\_decorators.py:36: FutureWarning: Pass the following variables as keyword args: x, y. From version 0.12, the only valid positional argument will be `data`, and passing other arguments without an explicit keyword will result in an error or misinterpretation.\n",
      "  warnings.warn(\n"
     ]
    },
    {
     "data": {
      "text/plain": [
       "Text(0, 0.5, 'Actual Values')"
      ]
     },
     "execution_count": 30,
     "metadata": {},
     "output_type": "execute_result"
    },
    {
     "data": {
      "image/png": "[encoded data removed]",
      "text/plain": [
       "<Figure size 864x720 with 1 Axes>"
      ]
     },
     "metadata": {},
     "output_type": "display_data"
    }
   ],
   "source": [
    "# here I will visualize the real test values(y_test) versus the predicted values.\n",
    "plt.figure(figsize=(12,10))\n",
    "sns.scatterplot(np.ravel(predictions),y_test)\n",
    "plt.title(\"The Scatterplot of Relationship between Actual Values and Predictions\")\n",
    "plt.xlabel(\"Predictions\")\n",
    "plt.ylabel(\"Actual Values\")\n",
    "#It seems that our model predicts very well"
   ]
  },
  {
   "cell_type": "code",
   "execution_count": 31,
   "id": "f6373322",
   "metadata": {},
   "outputs": [
    {
     "name": "stdout",
     "output_type": "stream",
     "text": [
      "MAE: 0.67003444478867\n",
      "MSE: 1.1011496101830063\n",
      "RMSE: 1.0493567602026521\n"
     ]
    }
   ],
   "source": [
    "# We will evaluate our model performance by calculating the residual sum of squares and the explained variance score\n",
    "from sklearn import metrics\n",
    "print(\"MAE:\",metrics.mean_absolute_error(y_test,predictions))\n",
    "print (\"MSE:\",metrics.mean_squared_error(y_test,predictions))\n",
    "print(\"RMSE:\",np.sqrt(metrics.mean_squared_error(y_test,predictions)))"
   ]
  },
  {
   "cell_type": "code",
   "execution_count": 32,
   "id": "b12f6105",
   "metadata": {},
   "outputs": [
    {
     "data": {
      "text/plain": [
       "0.9952447418397882"
      ]
     },
     "execution_count": 32,
     "metadata": {},
     "output_type": "execute_result"
    }
   ],
   "source": [
    "#Evaluation of  the explained variance score (R^2)\n",
    "metrics.explained_variance_score(y_test,predictions) #This shows our model predict %98 of the target correctly"
   ]
  },
  {
   "cell_type": "code",
   "execution_count": 33,
   "id": "7baf5406",
   "metadata": {},
   "outputs": [],
   "source": [
    "from sklearn.metrics import accuracy_score"
   ]
  },
  {
   "cell_type": "code",
   "execution_count": 34,
   "id": "deb67297",
   "metadata": {},
   "outputs": [
    {
     "name": "stdout",
     "output_type": "stream",
     "text": [
      "94/94 [==============================] - 0s 2ms/step\n"
     ]
    }
   ],
   "source": [
    "y_pred=ann.predict(X_test)"
   ]
  },
  {
   "cell_type": "code",
   "execution_count": 35,
   "id": "3c199c5f",
   "metadata": {},
   "outputs": [
    {
     "data": {
      "text/plain": [
       "array([[134.6744 ],\n",
       "       [112.36331],\n",
       "       [134.40688],\n",
       "       ...,\n",
       "       [145.8525 ],\n",
       "       [150.02156],\n",
       "       [111.93794]], dtype=float32)"
      ]
     },
     "execution_count": 35,
     "metadata": {},
     "output_type": "execute_result"
    }
   ],
   "source": [
    "y_pred"
   ]
  },
  {
   "cell_type": "code",
   "execution_count": 36,
   "id": "eb2e6a52",
   "metadata": {},
   "outputs": [
    {
     "name": "stdout",
     "output_type": "stream",
     "text": [
      "0.67003444478867\n",
      "1.1011496101830063\n",
      "1.0493567602026521\n",
      "0.9952421870290012\n"
     ]
    }
   ],
   "source": [
    "from sklearn.metrics import mean_absolute_error\n",
    "mae = mean_absolute_error(y_test, y_pred)\n",
    "from sklearn.metrics import mean_squared_error\n",
    "mse = mean_squared_error(y_test, y_pred)\n",
    "rmse = np.sqrt(mse)\n",
    "from sklearn.metrics import r2_score\n",
    "rsquared = r2_score(y_test, y_pred)\n",
    "print(mae)\n",
    "print(mse)\n",
    "print(rmse)\n",
    "print(rsquared)"
   ]
  },
  {
   "cell_type": "code",
   "execution_count": null,
   "id": "d12049a8",
   "metadata": {},
   "outputs": [],
   "source": []
  }
 ],
 "metadata": {
  "kernelspec": {
   "display_name": "Python 3 (ipykernel)",
   "language": "python",
   "name": "python3"
  },
  "language_info": {
   "codemirror_mode": {
    "name": "ipython",
    "version": 3
   },
   "file_extension": ".py",
   "mimetype": "text/x-python",
   "name": "python",
   "nbconvert_exporter": "python",
   "pygments_lexer": "ipython3",
   "version": "3.9.12"
  }
 },
 "nbformat": 4,
 "nbformat_minor": 5
}
